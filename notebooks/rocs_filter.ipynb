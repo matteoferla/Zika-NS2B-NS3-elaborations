{
 "cells": [
  {
   "cell_type": "code",
   "execution_count": 2,
   "id": "c08b11e6-92c4-4866-95dc-5b8a95070ec1",
   "metadata": {},
   "outputs": [
    {
     "name": "stdout",
     "output_type": "stream",
     "text": [
      "S2-rocs-0RB.sdf S2-rocs-1RB.sdf S2.pse          S2.sq\n"
     ]
    }
   ],
   "source": [
    "!ls  S2-rocs-1RB.sdf"
   ]
  },
  {
   "cell_type": "code",
   "execution_count": 1,
   "id": "fb0c4f0c-8e4e-40e0-9e0a-cc67836e74c4",
   "metadata": {},
   "outputs": [],
   "source": [
    "from rdkit import Chem\n",
    "from rdkit.Chem.Draw import IPythonConsole\n",
    "\n",
    "rocs = []\n",
    "\n",
    "for i in (0, 1):\n",
    "    with Chem.SDMolSupplier(f'S2-rocs-{i}RB.sdf') as sdfh:\n",
    "        rocs.extend(sdfh)"
   ]
  },
  {
   "cell_type": "code",
   "execution_count": 2,
   "id": "063c1073-3a87-4862-a507-05bd017e66d7",
   "metadata": {},
   "outputs": [
    {
     "data": {
      "text/plain": [
       "1000"
      ]
     },
     "execution_count": 2,
     "metadata": {},
     "output_type": "execute_result"
    }
   ],
   "source": [
    "len(rocs)"
   ]
  },
  {
   "cell_type": "code",
   "execution_count": 3,
   "id": "59e0d5c6-42cf-47ed-bd50-0b2d338e2b49",
   "metadata": {},
   "outputs": [
    {
     "name": "stderr",
     "output_type": "stream",
     "text": [
      "/Users/user/.conda/envs/py310/lib/python3.10/site-packages/Bio/pairwise2.py:278: BiopythonDeprecationWarning: Bio.pairwise2 has been deprecated, and we intend to remove it in a future release of Biopython. As an alternative, please consider using Bio.Align.PairwiseAligner as a replacement, and contact the Biopython developers if you still need the Bio.pairwise2 module.\n",
      "  warnings.warn(\n"
     ]
    },
    {
     "data": {
      "application/vnd.jupyter.widget-view+json": {
       "model_id": "57f69daac01845bfbd405d2c50a04b36",
       "version_major": 2,
       "version_minor": 0
      },
      "text/plain": []
     },
     "metadata": {},
     "output_type": "display_data"
    },
    {
     "name": "stdout",
     "output_type": "stream",
     "text": [
      "PyRosetta-4 2023 [Rosetta PyRosetta4.Release.python310.m1 2023.16+release.942c01d5066fd96860b7d268702b832fe906a739 2023-04-12T15:05:51] retrieved from: http://www.pyrosetta.org\n",
      "(C) Copyright Rosetta Commons Member Institutions. Created in JHU by Sergey Lyskov and PyRosetta Team.\n"
     ]
    }
   ],
   "source": [
    "from rdkit import Chem\n",
    "from rdkit.Chem import AllChem, Draw, PandasTools, BRICS\n",
    "from rdkit.Chem.Draw import IPythonConsole\n",
    "import pandas as pd\n",
    "import pandera.typing as pdt\n",
    "from typing import List, Dict\n",
    "import pyrosetta\n",
    "import pyrosetta_help as ph\n",
    "from types import ModuleType\n",
    "\n",
    "prc: ModuleType = pyrosetta.rosetta.core\n",
    "prp: ModuleType = pyrosetta.rosetta.protocols\n",
    "prn: ModuleType = pyrosetta.rosetta.numeric\n",
    "prcc: ModuleType = pyrosetta.rosetta.core.conformation\n",
    "pr_scoring: ModuleType = pyrosetta.rosetta.core.scoring\n",
    "pr_simple: ModuleType = prp.simple_moves\n",
    "pr_rsele: ModuleType = prc.select.residue_selector\n",
    "    \n",
    "# ------------------------------------------------------\n",
    "    \n",
    "import logging\n",
    "import pyrosetta_help as ph\n",
    "import pyrosetta\n",
    "\n",
    "logger = ph.configure_logger()\n",
    "logger.handlers[0].setLevel(logging.ERROR)  # logging.WARNING = 30\n",
    "extra_options = ph.make_option_string(no_optH=False,\n",
    "                                      ex1=None,\n",
    "                                      ex2=None,\n",
    "                                      #mute='all',\n",
    "                                      ignore_unrecognized_res=True,\n",
    "                                      load_PDB_components=False,\n",
    "                                      ignore_waters=True)\n",
    "pyrosetta.init(extra_options=extra_options)\n",
    "\n",
    "## ====================================================\n",
    "\n",
    "# crude filtering via PyRosetta.\n",
    "# does it affect the masked score (10Å radius of Cys).\n",
    "\n",
    "from rdkit import Geometry\n",
    "\n",
    "def mol2pose(mol: Chem.Mol) -> pyrosetta.Pose:\n",
    "    \"\"\"\n",
    "    Given an rdkit mol w/ a conformer make a PyRosetta pose w/ those coordinates\n",
    "    \"\"\"\n",
    "    params = Params.from_mol(mol, name='LIG')\n",
    "    # params.to_pose() is an ideal pose.\n",
    "    #params.add_residuetype(pose)\n",
    "    pose = params.to_pose()\n",
    "    conf = params.mol.GetConformer()\n",
    "    for atom in params.mol.GetAtoms():\n",
    "        name = atom.GetPDBResidueInfo().GetName()\n",
    "        pos: Geometry.Point3D = conf.GetAtomPosition(atom.GetIdx())\n",
    "        xyz = prn.xyzVector_double_t(pos.x, pos.y, pos.z)\n",
    "        pose.residue(1).set_xyz(name, xyz)\n",
    "    return pose\n",
    "\n",
    "def get_radius_score(pose, radius=10) -> float:\n",
    "    cys_idx = pose.pdb_info().pdb2pose(chain='A', res=147)\n",
    "    assert pose.residue(cys_idx).name3() == 'CYS'\n",
    "    neigh_sele = pr_rsele.NeighborhoodResidueSelector(pr_rsele.ResidueIndexSelector(cys_idx),\n",
    "                                                     radius,\n",
    "                                                      True\n",
    "                                                     )\n",
    "    # scorefxn = pyrosetta.get_fa_scorefxn()\n",
    "    # # clashes go away...\n",
    "    # scorefxn.set_weight(pr_scoring.ScoreType.fa_rep, 0)\n",
    "    # scorefxn(pose) # dummy call or segfault!\n",
    "    return scorefxn.get_sub_score(pose, neigh_sele.apply(pose))\n",
    "\n",
    "\n",
    "\n",
    "from rdkit_to_params import Params\n",
    "\n",
    "\n",
    "def is_good(hit, apo):\n",
    "    \"\"\"\n",
    "    \n",
    "    \"\"\"\n",
    "    try:\n",
    "        holo = apo.clone()\n",
    "        lig_pose = mol2pose(hit)\n",
    "        holo.append_pose_by_jump(lig_pose, holo.num_jump()+1)\n",
    "        return get_radius_score(holo) - get_radius_score(apo) < -1\n",
    "    except Exception as error:\n",
    "        if 'CONN1' not in str(error):\n",
    "            print(error.__class__.__name__, error)\n",
    "        return False"
   ]
  },
  {
   "cell_type": "code",
   "execution_count": 9,
   "id": "4274fb66-6699-43c3-891c-6de37ef1dcdb",
   "metadata": {},
   "outputs": [
    {
     "name": "stdout",
     "output_type": "stream",
     "text": [
      "ScoreType.fa_rep 0.55\n"
     ]
    },
    {
     "name": "stderr",
     "output_type": "stream",
     "text": [
      "\n",
      "ERROR:: Exit from: /Volumes/scratch/w/rosetta/commits/main/source/src/core/conformation/util.cc line: 1512\n",
      "\n",
      "ERROR:: Exit from: /Volumes/scratch/w/rosetta/commits/main/source/src/core/conformation/util.cc line: 1512\n",
      "\n",
      "ERROR:: Exit from: /Volumes/scratch/w/rosetta/commits/main/source/src/core/conformation/util.cc line: 1512\n",
      "\n",
      "ERROR:: Exit from: /Volumes/scratch/w/rosetta/commits/main/source/src/core/conformation/util.cc line: 1512\n",
      "\n",
      "ERROR:: Exit from: /Volumes/scratch/w/rosetta/commits/main/source/src/core/conformation/util.cc line: 1512\n"
     ]
    }
   ],
   "source": [
    "from tqdm.notebook import tqdm\n",
    "\n",
    "with open('template2.pdb') as fh:\n",
    "    pdbblock = fh.read()\n",
    "apo = pyrosetta.Pose()\n",
    "prc.import_pose.pose_from_pdbstring(apo, pdbblock)\n",
    "scorefxn = pyrosetta.get_fa_scorefxn()\n",
    "# unaltered:\n",
    "print(pr_scoring.ScoreType.fa_rep, scorefxn.get_weight(pr_scoring.ScoreType.fa_rep))\n",
    "\n",
    "apo_score = scorefxn(apo)\n",
    "\n",
    "good_rocs = []\n",
    "schmeh_rocs = []\n",
    "bombed_rocs = []\n",
    "\n",
    "for i, mol in enumerate(rocs):\n",
    "    mol.SetProp('_Name', mol.GetProp('id'))\n",
    "    holo = apo.clone()\n",
    "    try:\n",
    "        lig_pose = mol2pose(mol)\n",
    "        holo.append_pose_by_jump(lig_pose, holo.num_jump()+1)\n",
    "        score = scorefxn(holo)\n",
    "        mol.SetDoubleProp('Score', score - apo_score)\n",
    "        if score - apo_score < 0: # scorefxn(lig_pose) is zero... ish...\n",
    "            good_rocs.append(mol)\n",
    "        else:\n",
    "            schmeh_rocs.append(mol)\n",
    "    except Exception as error:\n",
    "        mol.SetProp('issue', f'{error.__class__.__name__}: {error}')\n",
    "        bombed_rocs.append(mol)"
   ]
  },
  {
   "cell_type": "code",
   "execution_count": 10,
   "id": "1e411ab1-933d-4efb-807c-8ceb6cf61ed4",
   "metadata": {},
   "outputs": [
    {
     "data": {
      "text/plain": [
       "(23, 972, 5)"
      ]
     },
     "execution_count": 10,
     "metadata": {},
     "output_type": "execute_result"
    }
   ],
   "source": [
    "len(good_rocs), len(schmeh_rocs), len(bombed_rocs)"
   ]
  },
  {
   "cell_type": "code",
   "execution_count": 13,
   "id": "7e4ed482-8d2a-404e-961f-b44703611c4c",
   "metadata": {},
   "outputs": [],
   "source": [
    "from datetime import date\n",
    "from typing import Optional\n",
    "\n",
    "def generate_header(method: str,\n",
    "                    ref_url: Optional[str]= 'https://www.example.com',\n",
    "                    submitter_name: Optional[str]= 'unknown',\n",
    "                    submitter_email: Optional[str] = 'a@b.c',\n",
    "                    submitter_institution: Optional[str] = 'Nowehere',\n",
    "                    generation_date: Optional[str] = str(date.today()),\n",
    "                    smiles: Optional[str] = 'CN1C=NC2=C1C(=O)N(C(=O)N2C)C',\n",
    "                    extras: Optional[dict] = None) -> Chem.Mol:\n",
    "    \"\"\"\n",
    "    Generate a header Chem.Mol for a SDF file in the ver_1.2 style.\n",
    "    cf. https://discuss.postera.ai/t/providing-computed-poses-for-others-to-look-at/1155/6\n",
    "\n",
    "    :param method: **Unique** and compulsory. Note that it will be bleached.\n",
    "    :param ref_url:\n",
    "    :param submitter_name:\n",
    "    :param submitter_email:\n",
    "    :param submitter_institution:\n",
    "    :param generation_date:\n",
    "    :param smiles:\n",
    "    :param extras:  A dictionary of extra properties to add to the header.\n",
    "                    These will be present in all the molecules in the SDF for sortable tables!\n",
    "    :return: Chem.Mol\n",
    "    \"\"\"\n",
    "    bannermol = Chem.MolFromSmiles(smiles)\n",
    "    bannermol.SetProp('_Name', 'ver_1.2')\n",
    "    AllChem.EmbedMolecule(bannermol)\n",
    "    for k, v in {'ref_url': ref_url,\n",
    "                 'submitter_name': submitter_name,\n",
    "                 'submitter_email': submitter_email,\n",
    "                    'submitter_institution': submitter_institution,\n",
    "                 'generation_date': generation_date,\n",
    "                 'method': method,\n",
    "                 }.items():\n",
    "        bannermol.SetProp(k, v)\n",
    "    for k, v in extras.items():\n",
    "        bannermol.SetProp(k, str(v))\n",
    "    return bannermol"
   ]
  },
  {
   "cell_type": "code",
   "execution_count": 14,
   "id": "1ed871e2-9b22-4d71-ad4a-383bed1656b6",
   "metadata": {},
   "outputs": [
    {
     "name": "stderr",
     "output_type": "stream",
     "text": [
      "[15:51:51] Molecule does not have explicit Hs. Consider calling AddHs()\n"
     ]
    }
   ],
   "source": [
    "header = generate_header(method='S2-ROCS',\n",
    "                    ref_url= 'https://github.com/matteoferla/Fragment-hit-follow-up-chemistry',\n",
    "                    submitter_name= 'Matteo Ferla',\n",
    "                    submitter_email= 'matteo.ferla@stats.ox.ac.uk',\n",
    "                    submitter_institution='Oxford',\n",
    "                    extras={'Score': 'Gibbs Free energy'})"
   ]
  },
  {
   "cell_type": "code",
   "execution_count": 22,
   "id": "6ff34575-1a4f-4a05-9cdb-66a8e521c952",
   "metadata": {},
   "outputs": [],
   "source": [
    "with Chem.SDWriter('S2-ROCS.sdf') as sdf:\n",
    "    sdf.write(header)\n",
    "    for mol in sorted(good_rocs, key=lambda mol: mol.GetDoubleProp('Score')):\n",
    "        mol.SetProp('ref_mols', 'x0846_0B')\n",
    "        mol.SetProp('ref_pdb', 'x0846_0B')\n",
    "        mol.SetProp('_Name', mol.GetProp('id'))\n",
    "        mol.SetProp('original SMILES', Chem.MolToSmiles(AllChem.RemoveHs(mol)))\n",
    "        sdf.write(mol)"
   ]
  },
  {
   "cell_type": "code",
   "execution_count": 20,
   "id": "20430764-1b2e-4381-9627-7d8d38aa73f8",
   "metadata": {},
   "outputs": [
    {
     "data": {
      "image/png": "[encoded data removed]",
      "text/html": [
       "<table><tr><td colspan=\"2\" style=\"text-align: center;\"><image src=\"data:image/png;base64,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\"></td></tr>\n",
       "<tr><th style=\"text-align: right\">id</th><td style=\"text-align: left\">EN300-48610</td></tr>\n",
       "<tr><th style=\"text-align: right\">smiles</th><td style=\"text-align: left\">FC=1C=CC(C#CC=2C=NC3=CC=NN3C2)=CC1</td></tr>\n",
       "<tr><th style=\"text-align: right\">MDLNUMBER</th><td style=\"text-align: left\">MFCD32198575</td></tr>\n",
       "<tr><th style=\"text-align: right\">IUPAC Name</th><td style=\"text-align: left\">6-[2-(4-fluorophenyl)ethynyl]pyrazolo[1,5-a]pyrimidine</td></tr>\n",
       "<tr><th style=\"text-align: right\">CAS</th><td style=\"text-align: left\">1264192-08-6</td></tr>\n",
       "<tr><th style=\"text-align: right\">Purity</th><td style=\"text-align: left\">95</td></tr>\n",
       "<tr><th style=\"text-align: right\">URL</th><td style=\"text-align: left\">https://www.enaminestore.com/catalog/EN300-48610</td></tr>\n",
       "<tr><th style=\"text-align: right\">ROCS_ShapeQuery</th><td style=\"text-align: left\">_x0404_0B</td></tr>\n",
       "<tr><th style=\"text-align: right\">ROCS_TanimotoCombo</th><td style=\"text-align: left\">0.394 </td></tr>\n",
       "<tr><th style=\"text-align: right\">ROCS_ShapeTanimoto</th><td style=\"text-align: left\">0.333 </td></tr>\n",
       "<tr><td colspan=\"2\" style=\"text-align: center\">Property list truncated.<br />Increase IPythonConsole.ipython_maxProperties (or set it to -1) to see more properties.</td></tr></table>"
      ],
      "text/plain": [
       "<rdkit.Chem.rdchem.Mol at 0x10eede3b0>"
      ]
     },
     "execution_count": 20,
     "metadata": {},
     "output_type": "execute_result"
    }
   ],
   "source": [
    "good_rocs[0]"
   ]
  },
  {
   "cell_type": "code",
   "execution_count": null,
   "id": "1bb48702-1221-463d-9a8f-1a03ad811eb8",
   "metadata": {},
   "outputs": [],
   "source": []
  }
 ],
 "metadata": {
  "kernelspec": {
   "display_name": "Python [conda env:py310]",
   "language": "python",
   "name": "conda-env-py310-py"
  },
  "language_info": {
   "codemirror_mode": {
    "name": "ipython",
    "version": 3
   },
   "file_extension": ".py",
   "mimetype": "text/x-python",
   "name": "python",
   "nbconvert_exporter": "python",
   "pygments_lexer": "ipython3",
   "version": "3.10.10"
  }
 },
 "nbformat": 4,
 "nbformat_minor": 5
}
