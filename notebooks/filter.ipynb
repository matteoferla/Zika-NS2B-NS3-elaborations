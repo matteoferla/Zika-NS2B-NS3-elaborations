{
 "cells": [
  {
   "cell_type": "code",
   "execution_count": null,
   "id": "e09269a2-fd6b-488c-bbb1-457cb82e6955",
   "metadata": {},
   "outputs": [],
   "source": [
    "import pandas as pd\n",
    "\n",
    "double = pd.read_pickle('fragmenstein_placed_paired_filtered.pkl.gz')\n",
    "triple = pd.read_pickle('fragmenstein_placed_2A.pkl.gz')\n",
    "\n",
    "combined = pd.concat([double.reset_index(drop=True), triple.reset_index(drop=True)], ignore_index=True).reset_index(drop=True).copy() "
   ]
  },
  {
   "cell_type": "code",
   "execution_count": 110,
   "id": "49a5da95-4dae-45e8-8b2c-52caccd8ded3",
   "metadata": {},
   "outputs": [],
   "source": [
    "from rdkit import Chem\n",
    "import operator, json\n",
    "from fragmenstein_merge_sw_place import score\n",
    "\n",
    "def get_first(mols):\n",
    "    ersatzmolekül = Chem.Mol()\n",
    "    ersatzmolekül.SetProp('_Name', 'error')\n",
    "    # replaces operator.itemgetter(0)\n",
    "    if not isinstance(mols, list):\n",
    "        return ersatzmolekül\n",
    "    elif len(mols) == 0:\n",
    "        return ersatzmolekül\n",
    "    else:\n",
    "        return mols[0]\n",
    "        \n",
    "hit_replacements = pd.read_pickle(f'fragmenstein_hit_replacements_2.pkl.gz')\n",
    "extracted_hits = hit_replacements.hit_mols.apply(get_first).to_list()\n",
    "\n",
    "with open('weights.json') as fh:\n",
    "    weights = json.load(fh)\n",
    "    weights['strain_per_HA'] = weights['∆∆G'] / 3\n",
    "    # every 3 kJ/mol straight is as bad as losing 1 kcal/mol free energy?\n",
    "    weights['N_PAINS'] = 20  # a single PAINS violation is as bad as \n",
    "\n",
    "#del sample['ad_hoc_penalty']\n",
    "score(combined, hit_replacements, '_test', extracted_hits, weights)"
   ]
  },
  {
   "cell_type": "code",
   "execution_count": 111,
   "id": "9b41acef-0ce7-4e5f-bc51-e2197efef64b",
   "metadata": {},
   "outputs": [
    {
     "data": {
      "text/html": [
       "<div>\n",
       "<style scoped>\n",
       "    .dataframe tbody tr th:only-of-type {\n",
       "        vertical-align: middle;\n",
       "    }\n",
       "\n",
       "    .dataframe tbody tr th {\n",
       "        vertical-align: top;\n",
       "    }\n",
       "\n",
       "    .dataframe thead th {\n",
       "        text-align: right;\n",
       "    }\n",
       "</style>\n",
       "<table border=\"1\" class=\"dataframe\">\n",
       "  <thead>\n",
       "    <tr style=\"text-align: right;\">\n",
       "      <th></th>\n",
       "      <th>N_rotatable_bonds</th>\n",
       "      <th>∆∆G</th>\n",
       "      <th>interaction_uniqueness_metric</th>\n",
       "      <th>N_unconstrained_atoms</th>\n",
       "      <th>N_constrained_atoms</th>\n",
       "      <th>N_interactions</th>\n",
       "      <th>N_interactions_lost</th>\n",
       "      <th>max_hit_Tanimoto</th>\n",
       "      <th>strain_per_HA</th>\n",
       "      <th>N_PAINS</th>\n",
       "      <th>ad_hoc_penalty</th>\n",
       "    </tr>\n",
       "  </thead>\n",
       "  <tbody>\n",
       "    <tr>\n",
       "      <th>6</th>\n",
       "      <td>7</td>\n",
       "      <td>-8.934376</td>\n",
       "      <td>2.438470</td>\n",
       "      <td>9.0</td>\n",
       "      <td>19.0</td>\n",
       "      <td>6</td>\n",
       "      <td>1.0</td>\n",
       "      <td>0.253448</td>\n",
       "      <td>3.581136</td>\n",
       "      <td>0</td>\n",
       "      <td>-70.544848</td>\n",
       "    </tr>\n",
       "    <tr>\n",
       "      <th>0</th>\n",
       "      <td>5</td>\n",
       "      <td>-7.998571</td>\n",
       "      <td>0.157572</td>\n",
       "      <td>4.0</td>\n",
       "      <td>23.0</td>\n",
       "      <td>8</td>\n",
       "      <td>0.0</td>\n",
       "      <td>0.301237</td>\n",
       "      <td>6.249713</td>\n",
       "      <td>0</td>\n",
       "      <td>-48.798672</td>\n",
       "    </tr>\n",
       "    <tr>\n",
       "      <th>3</th>\n",
       "      <td>4</td>\n",
       "      <td>-6.903683</td>\n",
       "      <td>0.184044</td>\n",
       "      <td>3.0</td>\n",
       "      <td>23.0</td>\n",
       "      <td>7</td>\n",
       "      <td>0.0</td>\n",
       "      <td>0.311277</td>\n",
       "      <td>2.392016</td>\n",
       "      <td>0</td>\n",
       "      <td>-48.411187</td>\n",
       "    </tr>\n",
       "    <tr>\n",
       "      <th>2</th>\n",
       "      <td>3</td>\n",
       "      <td>-6.589362</td>\n",
       "      <td>0.220980</td>\n",
       "      <td>3.0</td>\n",
       "      <td>20.0</td>\n",
       "      <td>9</td>\n",
       "      <td>1.0</td>\n",
       "      <td>0.304900</td>\n",
       "      <td>5.154831</td>\n",
       "      <td>0</td>\n",
       "      <td>-47.837751</td>\n",
       "    </tr>\n",
       "    <tr>\n",
       "      <th>5</th>\n",
       "      <td>0</td>\n",
       "      <td>-6.164977</td>\n",
       "      <td>0.225711</td>\n",
       "      <td>3.0</td>\n",
       "      <td>15.0</td>\n",
       "      <td>6</td>\n",
       "      <td>0.5</td>\n",
       "      <td>0.496403</td>\n",
       "      <td>4.510615</td>\n",
       "      <td>0</td>\n",
       "      <td>-45.494939</td>\n",
       "    </tr>\n",
       "  </tbody>\n",
       "</table>\n",
       "</div>"
      ],
      "text/plain": [
       "   N_rotatable_bonds       ∆∆G  interaction_uniqueness_metric  \\\n",
       "6                  7 -8.934376                       2.438470   \n",
       "0                  5 -7.998571                       0.157572   \n",
       "3                  4 -6.903683                       0.184044   \n",
       "2                  3 -6.589362                       0.220980   \n",
       "5                  0 -6.164977                       0.225711   \n",
       "\n",
       "   N_unconstrained_atoms  N_constrained_atoms  N_interactions  \\\n",
       "6                    9.0                 19.0               6   \n",
       "0                    4.0                 23.0               8   \n",
       "3                    3.0                 23.0               7   \n",
       "2                    3.0                 20.0               9   \n",
       "5                    3.0                 15.0               6   \n",
       "\n",
       "   N_interactions_lost  max_hit_Tanimoto  strain_per_HA  N_PAINS  \\\n",
       "6                  1.0          0.253448       3.581136        0   \n",
       "0                  0.0          0.301237       6.249713        0   \n",
       "3                  0.0          0.311277       2.392016        0   \n",
       "2                  1.0          0.304900       5.154831        0   \n",
       "5                  0.5          0.496403       4.510615        0   \n",
       "\n",
       "   ad_hoc_penalty  \n",
       "6      -70.544848  \n",
       "0      -48.798672  \n",
       "3      -48.411187  \n",
       "2      -47.837751  \n",
       "5      -45.494939  "
      ]
     },
     "execution_count": 111,
     "metadata": {},
     "output_type": "execute_result"
    }
   ],
   "source": [
    "combined.loc[combined.outcome == 'acceptable']\\\n",
    "          .sort_values('ad_hoc_penalty')\\\n",
    "          .drop_duplicates('cluster')[list(weights.keys()) + ['ad_hoc_penalty']].head()"
   ]
  },
  {
   "cell_type": "code",
   "execution_count": 112,
   "id": "e341e4e2-a725-4d6a-b6ae-311bb2699830",
   "metadata": {},
   "outputs": [],
   "source": [
    "from gist_import import GistImporter\n",
    "\n",
    "fmodule = GistImporter.from_github('https://raw.githubusercontent.com/matteoferla/Fragment-hit-follow-up-chemistry/main/followup/prep_fragalysis.py')\n",
    "prep = fmodule['prep']\n",
    "generate_header = fmodule['generate_header']"
   ]
  },
  {
   "cell_type": "code",
   "execution_count": 113,
   "id": "6c42c1b6-a94c-425d-bc9e-b5da0c875ad3",
   "metadata": {},
   "outputs": [],
   "source": [
    "placements = combined"
   ]
  },
  {
   "cell_type": "code",
   "execution_count": 114,
   "id": "0443403f-8229-4717-a8a8-ba5502e396b0",
   "metadata": {},
   "outputs": [
    {
     "data": {
      "text/plain": [
       "array(['REAL-Database-22Q1.smi.anon', 'Enamine-BB-Stock-Mar2022.smi.anon',\n",
       "       'mcule_purchasable_virtual_230121.smi.anon',\n",
       "       'MculeUltimate-20Q2.smi.anon', 'Enamine-SC-Stock-Mar2022.smi.anon',\n",
       "       'mcule_purchasable_building_blocks_230120.smi.anon', nan],\n",
       "      dtype=object)"
      ]
     },
     "execution_count": 114,
     "metadata": {},
     "output_type": "execute_result"
    }
   ],
   "source": [
    "placements['catalogue'].unique()"
   ]
  },
  {
   "cell_type": "code",
   "execution_count": 115,
   "id": "fa93540e-d666-454a-8294-bf1be6d2954d",
   "metadata": {},
   "outputs": [],
   "source": [
    "placements['Enamine'] = placements['catalogue'].apply(lambda n: n in ['Enamine-SC-Stock-Mar2022.smi.anon',\n",
    "       'Enamine-BB-Stock-Mar2022.smi.anon', 'REAL-Database-22Q1.smi.anon']).astype(int)\n",
    "placements['Mcule'] = placements['catalogue'].apply(lambda n: n in ['mcule_purchasable_building_blocks_230120.smi.anon',\n",
    "       'mcule_purchasable_virtual_230121.smi.anon',\n",
    "       'MculeUltimate-20Q2.smi.anon']).astype(int)\n",
    "placements = placements.copy()"
   ]
  },
  {
   "cell_type": "code",
   "execution_count": 122,
   "id": "7e639c47-9951-4e20-a85c-e33738bdb401",
   "metadata": {},
   "outputs": [
    {
     "name": "stderr",
     "output_type": "stream",
     "text": [
      "[12:39:16] Molecule does not have explicit Hs. Consider calling AddHs()\n"
     ]
    }
   ],
   "source": [
    "target_name='XX01ZVNS2B'\n",
    "method_name = 'Fragmenstein-no_curation-NSP2B'\n",
    "N_top = 500\n",
    "\n",
    "import numpy as np\n",
    "from rdkit import Chem\n",
    "from typing import List\n",
    "\n",
    "def fix(mol: Chem.Mol):\n",
    "    assert isinstance(mol, Chem.Mol)\n",
    "    assert mol.GetNumAtoms()\n",
    "    mol.ClearComputedProps()\n",
    "    for name in mol.GetPropNames():\n",
    "        mol.ClearProp(name)\n",
    "\n",
    "placements.loc[(placements.outcome == 'acceptable') \\\n",
    "                            & (placements['∆∆G'] <= -5) \\\n",
    "                            & (placements.largest_ring <= 10) \\\n",
    "                            & (placements.ad_hoc_penalty <= 0)\n",
    "                            ]\\\n",
    "                   .sort_values('ad_hoc_penalty')\\\n",
    "          .sort_values('ad_hoc_penalty')\\\n",
    "          .drop_duplicates('cluster')\\\n",
    "          .copy()\\\n",
    "          .to_pickle('fragmenstein_placed_combined_filtered.pkl.gz')\n",
    "\n",
    "\n",
    "with pd.option_context('mode.chained_assignment', None):\n",
    "\n",
    "    df = placements.loc[(placements.outcome == 'acceptable') \\\n",
    "                            & (placements['∆∆G'] <= -5) \\\n",
    "                            & (placements.largest_ring <= 10) \\\n",
    "                            & (placements.ad_hoc_penalty <= 0)\n",
    "                            ]\\\n",
    "                       .sort_values('ad_hoc_penalty')\\\n",
    "                       .drop_duplicates('cluster')\\\n",
    "                       .rename(columns={c: ':'.join(map(str, c)) for c in placements.columns if isinstance(c, tuple)})\\\n",
    "                       .reset_index()\\\n",
    "                       .head(N_top).copy()\n",
    "    # list of str to str w/ comma-separator\n",
    "    df['ref_mols'] = df.hit_names.apply(lambda l: ','.join([v.replace(f'{target_name}-', '') for v in l]))\n",
    "    # not used\n",
    "    df['washed_mol'] = df.minimized_mol.apply(fix)\n",
    "    df['name'] = df['name'].apply(lambda v: v.split('-'+target_name)[0])\n",
    "        \n",
    "numericals = [k for k, v in df.iloc[0].items() if type(v) in (int, np.int64, float, np.float64)]\n",
    "nonempty = [c for c, v in (df[[c for c in df.columns if ':' in c]].sum() > 0).to_dict().items() if v]\n",
    "extras: List[str] = [c for c in df.columns if c in numericals and ':' not in c] + nonempty\n",
    "bad_columns = [x for x, v in df[extras].astype(float).isna().any().to_dict().items() if v]\n",
    "if not bad_columns:\n",
    "    print(f'Some entries are not properly numeric, forcing: {bad_columns}')\n",
    "    for col in bad_columns:\n",
    "        df[col] = df[col].fillna(0).astype(float)\n",
    "header: Chem.Mol = generate_header(method_name,\n",
    "                         ref_url='https://github.com/matteoferla/Fragment-hit-follow-up-chemistry',\n",
    "                         submitter_name='Matteo Ferla',\n",
    "                         submitter_email='matteo.ferla@stats.ox.ac.uk',\n",
    "                         extras=dict(zip(extras, extras))\n",
    "                        )\n",
    "prep(df, header, mol_col='minimized_mol', name_col='id',\n",
    "     outfile=f'{method_name}.sdf',\n",
    "     ref_pdb='x0051_0B',\n",
    "     extras=extras\n",
    "    )\n",
    "print('DONE')"
   ]
  },
  {
   "cell_type": "code",
   "execution_count": 123,
   "id": "231f4f20-7d79-4980-89c3-8ede540fff3f",
   "metadata": {},
   "outputs": [
    {
     "name": "stdout",
     "output_type": "stream",
     "text": [
      "DONE\n"
     ]
    }
   ],
   "source": [
    "print('DONE')"
   ]
  },
  {
   "cell_type": "code",
   "execution_count": 3,
   "id": "b0535027-4cfe-49bc-8387-c03cfb8cb4c0",
   "metadata": {},
   "outputs": [
    {
     "name": "stdout",
     "output_type": "stream",
     "text": [
      "fragmenstein_placed_combined.pains.pkl.gz\n",
      "fragmenstein_placed_combined_filtered.pkl.gz\n"
     ]
    }
   ],
   "source": [
    "!ls *combined*"
   ]
  },
  {
   "cell_type": "code",
   "execution_count": 3,
   "id": "aea53329-8908-422f-b388-24ac69a0d6a3",
   "metadata": {},
   "outputs": [],
   "source": [
    "import pandas as pd\n",
    "\n",
    "combined = pd.read_pickle('fragmenstein_placed_combined_filtered.pkl.gz')"
   ]
  },
  {
   "cell_type": "code",
   "execution_count": 4,
   "id": "3e31c3d7-589e-48dd-be6e-1845e49a8e0c",
   "metadata": {},
   "outputs": [
    {
     "data": {
      "text/plain": [
       "[('pistack', 'TYR', 161),\n",
       " ('hydroph_interaction', 'TYR', 161),\n",
       " ('hydroph_interaction', 'ASP', 83),\n",
       " ('hbond', 'TYR', 130),\n",
       " ('hbond', 'TYR', 161),\n",
       " ('hydroph_interaction', 'TYR', 130),\n",
       " ('saltbridge', 'ASP', 83),\n",
       " ('hbond', 'ASP', 83),\n",
       " ('pication', 'TYR', 161),\n",
       " ('hbond', 'LEU', 128),\n",
       " ('halogenbond', 'TYR', 130),\n",
       " ('halogenbond', 'LEU', 128),\n",
       " ('hbond', 'GLY', 82),\n",
       " ('halogenbond', 'TYR', 161),\n",
       " ('halogenbond', 'GLY', 82),\n",
       " ('halogenbond', 'ASP', 83),\n",
       " ('hydroph_interaction', 'LEU', 128),\n",
       " ('pistack', 'TYR', 130)]"
      ]
     },
     "execution_count": 4,
     "metadata": {},
     "output_type": "execute_result"
    }
   ],
   "source": [
    "[c for c in combined.columns if isinstance(c, tuple) and c[2] in critical]"
   ]
  },
  {
   "cell_type": "code",
   "execution_count": 5,
   "id": "b6e12cda-b936-4059-ba55-1d41145fe0e4",
   "metadata": {},
   "outputs": [],
   "source": [
    "critical = [161, 128, 130, 82, 83]\n",
    "secondary = [150, 135, 132, 51, 152, 36, 52]\n",
    "#'pistack 161, #150, 51, \n",
    "# hydroph_interaction\n",
    "\n",
    "col_names = [c for c in combined.columns if isinstance(c, tuple) and c[2] in critical+secondary]\n",
    "\n",
    "def score(row):\n",
    "    score = 0\n",
    "    for col in col_names:\n",
    "        if not (row[col] > 0):\n",
    "            continue\n",
    "        elif col[0] == 'hydroph_interaction':\n",
    "            w = 0.5\n",
    "        elif col[0] == 'pistack':\n",
    "            w = 2.\n",
    "        else:\n",
    "            w = 1.\n",
    "        if col[2] in critical:\n",
    "            w = w * 2.\n",
    "        score += w * row[col]\n",
    "    return score\n",
    "            \n",
    "\n",
    "# x0969 x0089 x1098\n",
    "combined['intxn_scored'] = combined.apply(score, axis=1)"
   ]
  },
  {
   "cell_type": "code",
   "execution_count": 22,
   "id": "63164a1e-938c-4c9c-97f6-abff5508a87b",
   "metadata": {},
   "outputs": [
    {
     "name": "stdout",
     "output_type": "stream",
     "text": [
      "Some entries are not properly numeric, forcing: []\n"
     ]
    },
    {
     "name": "stderr",
     "output_type": "stream",
     "text": [
      "[12:03:05] Molecule does not have explicit Hs. Consider calling AddHs()\n"
     ]
    },
    {
     "name": "stdout",
     "output_type": "stream",
     "text": [
      "DONE\n"
     ]
    }
   ],
   "source": [
    "target_name='XX01ZVNS2B'\n",
    "method_name = 'Fragmenstein-no_curation-intxn-NSP2B'\n",
    "N_top = 500\n",
    "\n",
    "import numpy as np\n",
    "from rdkit import Chem\n",
    "from typing import List\n",
    "from gist_import import GistImporter\n",
    "\n",
    "fmodule = GistImporter.from_github('https://raw.githubusercontent.com/matteoferla/Fragment-hit-follow-up-chemistry/main/followup/prep_fragalysis.py')\n",
    "prep = fmodule['prep']\n",
    "generate_header = fmodule['generate_header']\n",
    "\n",
    "def fix(mol: Chem.Mol):\n",
    "    assert isinstance(mol, Chem.Mol)\n",
    "    assert mol.GetNumAtoms()\n",
    "    mol.ClearComputedProps()\n",
    "    for name in mol.GetPropNames():\n",
    "        mol.ClearProp(name)\n",
    "\n",
    "\n",
    "with pd.option_context('mode.chained_assignment', None):\n",
    "\n",
    "    df = combined.loc[(combined.outcome == 'acceptable') \\\n",
    "                & (combined.N_PAINS == 0) \\\n",
    "                & (combined.Enamine) \\\n",
    "                & (combined.strain_per_HA <= 15.) \\\n",
    "                & (combined['∆∆G'] <= -5) \\\n",
    "                & (combined.largest_ring <= 10) \\\n",
    "                & (combined.ad_hoc_penalty <= 0)\n",
    "    ].sort_values('intxn_scored', ascending=False) \\\n",
    "                       .sort_values('intxn_scored', ascending=False)\\\n",
    "                       .drop_duplicates('cluster')\\\n",
    "                       .rename(columns={c: ':'.join(map(str, c)) for c in combined.columns if isinstance(c, tuple)})\\\n",
    "                       .reset_index()\\\n",
    "                       .head(N_top).copy()\n",
    "    # list of str to str w/ comma-separator\n",
    "    df['ref_mols'] = df.hit_names.apply(lambda l: ','.join([v.replace(f'{target_name}-', '') for v in l]))\n",
    "    # not used\n",
    "    df['washed_mol'] = df.minimized_mol.apply(fix)\n",
    "    df['name'] = df['name'].apply(lambda v: v.split('-'+target_name)[0])\n",
    "        \n",
    "numericals = [k for k, v in df.iloc[0].items() if type(v) in (int, np.int64, float, np.float64)]\n",
    "nonempty = [c for c, v in (df[[c for c in df.columns if ':' in c]].sum() > 0).to_dict().items() if v]\n",
    "extras: List[str] = [c for c in df.columns if c in numericals and ':' not in c] + nonempty\n",
    "bad_columns = [x for x, v in df[extras].astype(float).isna().any().to_dict().items() if v]\n",
    "if not bad_columns:\n",
    "    print(f'Some entries are not properly numeric, forcing: {bad_columns}')\n",
    "    for col in bad_columns:\n",
    "        df[col] = df[col].fillna(0).astype(float)\n",
    "header: Chem.Mol = generate_header(method_name,\n",
    "                         ref_url='https://github.com/matteoferla/Fragment-hit-follow-up-chemistry',\n",
    "                         submitter_name='Matteo Ferla',\n",
    "                         submitter_email='matteo.ferla@stats.ox.ac.uk',\n",
    "                         extras=dict(zip(extras, extras))\n",
    "                        )\n",
    "prep(df, header, mol_col='minimized_mol', name_col='id',\n",
    "     outfile=f'{method_name}.sdf',\n",
    "     ref_pdb='x0051_0B',\n",
    "     extras=extras\n",
    "    )\n",
    "print('DONE')"
   ]
  },
  {
   "cell_type": "code",
   "execution_count": null,
   "id": "dade7739-babd-4174-abeb-8f5381bb831e",
   "metadata": {},
   "outputs": [],
   "source": []
  },
  {
   "cell_type": "code",
   "execution_count": null,
   "id": "1a93188d-5b89-4024-afdd-1d50af5b0c36",
   "metadata": {},
   "outputs": [],
   "source": []
  },
  {
   "cell_type": "code",
   "execution_count": null,
   "id": "1ea598b9-eb92-4925-95d3-24a9538278be",
   "metadata": {},
   "outputs": [],
   "source": []
  },
  {
   "cell_type": "code",
   "execution_count": null,
   "id": "656b7231-1ffd-4add-8a14-07e885697c43",
   "metadata": {},
   "outputs": [],
   "source": []
  },
  {
   "cell_type": "code",
   "execution_count": null,
   "id": "c12f3404-dc0f-45f4-a01e-1c81f647a57b",
   "metadata": {},
   "outputs": [],
   "source": [
    "SUPRESSED_EXCEPTION = Exception\n",
    "\n",
    "from typing import List\n",
    "import contextlib\n",
    "from rdkit import Chem\n",
    "from rdkit.Chem import AllChem\n",
    "from rdkit.Chem.rdfiltercatalog import FilterCatalogParams, FilterCatalog, FilterCatalogEntry\n",
    "params = FilterCatalogParams()\n",
    "params.AddCatalog(FilterCatalogParams.FilterCatalogs.PAINS)\n",
    "catalog = FilterCatalog(params)\n",
    "\n",
    "def get_pains(mol) -> List[str]:\n",
    "    with contextlib.suppress(Exception):\n",
    "        entry: FilterCatalogEntry\n",
    "        if not isinstance(mol, Chem.Mol) or mol.GetNumHeavyAtoms() == 0:\n",
    "            return []\n",
    "        AllChem.SanitizeMol(mol)\n",
    "        return [entry.GetDescription() for entry in catalog.GetMatches(mol)]\n",
    "\n",
    "def UFF_Gibbs(mol):\n",
    "    # free energy cost of bound conformer\n",
    "    if not isinstance(mol, Chem.Mol) or mol.GetNumHeavyAtoms() == 0:\n",
    "        return float('nan')\n",
    "    with contextlib.suppress(SUPRESSED_EXCEPTION):\n",
    "        AllChem.SanitizeMol(mol)\n",
    "        # this is actually UFF\n",
    "        copy = Chem.Mol(mol)\n",
    "        return Monster.MMFF_score(None, mol, True)\n",
    "    return float('nan')\n",
    "\n",
    "combined['PAINSes'] = combined.minimized_mol.apply(get_pains)\n",
    "combined['N_PAINS'] = combined.PAINSes.apply(len)\n",
    "combined['UFF_Gibbs'] = combined.minimized_mol.apply(UFF_Gibbs)\n",
    "combined['strain_per_HA'] = combined.UFF_Gibbs / (combined.N_constrained_atoms + combined.N_unconstrained_atoms)"
   ]
  }
 ],
 "metadata": {
  "kernelspec": {
   "display_name": "Python [conda env:root] *",
   "language": "python",
   "name": "conda-root-py"
  },
  "language_info": {
   "codemirror_mode": {
    "name": "ipython",
    "version": 3
   },
   "file_extension": ".py",
   "mimetype": "text/x-python",
   "name": "python",
   "nbconvert_exporter": "python",
   "pygments_lexer": "ipython3",
   "version": "3.11.4"
  }
 },
 "nbformat": 4,
 "nbformat_minor": 5
}
