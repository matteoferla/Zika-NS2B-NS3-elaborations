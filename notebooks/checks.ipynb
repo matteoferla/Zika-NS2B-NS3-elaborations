{
 "cells": [
  {
   "cell_type": "code",
   "execution_count": 1,
   "id": "e3f097c2-29ac-4bee-b358-b18165975a9b",
   "metadata": {},
   "outputs": [],
   "source": [
    "from rdkit.Chem import AllChem, PandasTools\n",
    "\n",
    "import pandas as pd\n",
    "\n",
    "placements = pd.read_pickle('fragmenstein_placed_paired.pkl.gz').reset_index(drop=True)\n",
    "similars = pd.read_pickle('fragmenstein_similars_paired.pkl.gz').reset_index(drop=True)"
   ]
  },
  {
   "cell_type": "code",
   "execution_count": 2,
   "id": "21d11b96-b39e-4380-82e9-9aac4a94399c",
   "metadata": {},
   "outputs": [],
   "source": [
    "for k in ['id', 'hitSmiles', 'qrySmiles', 'qryMappedSmiles', 'hitMappedSmiles',\n",
    "       'atomMap', 'atomScore', 'anonIdx', 'mf', 'mw', 'dist', 'ecfp4',\n",
    "       'daylight', 'topodist', 'mces', 'tdn', 'tup', 'rdn', 'rup', 'ldn',\n",
    "       'lup', 'mut', 'maj', 'min', 'hyb', 'sub', 'smiles',\n",
    "       'query_index', 'query_smiles', 'catalogue', 'query_name', \n",
    "       'minimized_merger', 'unminimized_merger', 'custom_map']:\n",
    "    placements[k] = similars[k]"
   ]
  },
  {
   "cell_type": "code",
   "execution_count": 3,
   "id": "ddf5a7da-6b3e-4346-b16e-387887a4346a",
   "metadata": {},
   "outputs": [
    {
     "data": {
      "text/plain": [
       "(61449, 61449)"
      ]
     },
     "execution_count": 3,
     "metadata": {},
     "output_type": "execute_result"
    }
   ],
   "source": [
    "len(similars), len(placements)"
   ]
  },
  {
   "cell_type": "code",
   "execution_count": 4,
   "id": "85ef0023-27e7-4032-bf3d-1c5dd16713b1",
   "metadata": {},
   "outputs": [
    {
     "name": "stderr",
     "output_type": "stream",
     "text": [
      "/data/xchem-fragalysis/mferla/rocky-conda/lib/python3.11/site-packages/Bio/pairwise2.py:278: BiopythonDeprecationWarning: Bio.pairwise2 has been deprecated, and we intend to remove it in a future release of Biopython. As an alternative, please consider using Bio.Align.PairwiseAligner as a replacement, and contact the Biopython developers if you still need the Bio.pairwise2 module.\n",
      "  warnings.warn(\n"
     ]
    },
    {
     "data": {
      "application/vnd.jupyter.widget-view+json": {
       "model_id": "e391b9a77e714a1db804ff1f7d5b20a0",
       "version_major": 2,
       "version_minor": 0
      },
      "text/plain": []
     },
     "metadata": {},
     "output_type": "display_data"
    },
    {
     "name": "stdout",
     "output_type": "stream",
     "text": [
      "INFO: Pandarallel will run on 124 workers.\n",
      "INFO: Pandarallel will use Memory file system to transfer data between the main process and workers.\n",
      "PyRosetta-4 2023 [Rosetta PyRosetta4.Release.python311.ubuntu 2023.27+release.e3ce6ea9faf661ae8fa769511e2a9b8596417e58 2023-07-07T12:00:46] retrieved from: http://www.pyrosetta.org\n",
      "(C) Copyright Rosetta Commons Member Institutions. Created in JHU by Sergey Lyskov and PyRosetta Team.\n"
     ]
    }
   ],
   "source": [
    "from fragmenstein_merge_sw_place import score\n",
    "import json, operator\n",
    "\n",
    "with open('weights.json') as fh:\n",
    "    weights = json.load(fh)\n",
    "\n",
    "hit_replacements = pd.read_pickle('fragmenstein_hit_replacements_2.pkl.gz')\n",
    "\n",
    "\n",
    "placements = placements.copy()\n",
    "score(placements, \n",
    "      hit_replacements,\n",
    "      suffix = '_2',\n",
    "      hits=hit_replacements.hit_mols.apply(operator.itemgetter(0)).to_list(),\n",
    "      weights=weights)"
   ]
  },
  {
   "cell_type": "code",
   "execution_count": 21,
   "id": "71bfa4cb-a9d8-42d7-82a4-33534a42b43c",
   "metadata": {},
   "outputs": [
    {
     "data": {
      "text/plain": [
       "{'N_rotatable_bonds': 3,\n",
       " '∆∆G': 3,\n",
       " 'interaction_uniqueness_metric': -20,\n",
       " 'N_unconstrained_atoms': 0.5,\n",
       " 'N_constrained_atoms': -0.2,\n",
       " 'N_interactions': -5,\n",
       " 'N_interactions_lost': 10,\n",
       " 'max_hit_Tanimoto': -1}"
      ]
     },
     "execution_count": 21,
     "metadata": {},
     "output_type": "execute_result"
    }
   ],
   "source": [
    "weights"
   ]
  },
  {
   "cell_type": "code",
   "execution_count": 23,
   "id": "cb519fe4-e4dd-48f4-8409-03a153cc760f",
   "metadata": {},
   "outputs": [
    {
     "data": {
      "text/html": [
       "<div>\n",
       "<style scoped>\n",
       "    .dataframe tbody tr th:only-of-type {\n",
       "        vertical-align: middle;\n",
       "    }\n",
       "\n",
       "    .dataframe tbody tr th {\n",
       "        vertical-align: top;\n",
       "    }\n",
       "\n",
       "    .dataframe thead th {\n",
       "        text-align: right;\n",
       "    }\n",
       "</style>\n",
       "<table border=\"1\" class=\"dataframe\">\n",
       "  <thead>\n",
       "    <tr style=\"text-align: right;\">\n",
       "      <th></th>\n",
       "      <th>N_rotatable_bonds</th>\n",
       "      <th>∆∆G</th>\n",
       "      <th>interaction_uniqueness_metric</th>\n",
       "      <th>N_unconstrained_atoms</th>\n",
       "      <th>N_constrained_atoms</th>\n",
       "      <th>N_interactions</th>\n",
       "      <th>N_interactions_lost</th>\n",
       "      <th>max_hit_Tanimoto</th>\n",
       "      <th>ad_hoc_penalty</th>\n",
       "    </tr>\n",
       "  </thead>\n",
       "  <tbody>\n",
       "    <tr>\n",
       "      <th>15820</th>\n",
       "      <td>5</td>\n",
       "      <td>-7.998571</td>\n",
       "      <td>0.078042</td>\n",
       "      <td>4.0</td>\n",
       "      <td>23.0</td>\n",
       "      <td>8</td>\n",
       "      <td>0.0</td>\n",
       "      <td>0.301237</td>\n",
       "      <td>-53.457788</td>\n",
       "    </tr>\n",
       "    <tr>\n",
       "      <th>13483</th>\n",
       "      <td>2</td>\n",
       "      <td>-7.374585</td>\n",
       "      <td>0.092267</td>\n",
       "      <td>1.0</td>\n",
       "      <td>19.0</td>\n",
       "      <td>9</td>\n",
       "      <td>1.5</td>\n",
       "      <td>0.135572</td>\n",
       "      <td>-51.404674</td>\n",
       "    </tr>\n",
       "    <tr>\n",
       "      <th>23144</th>\n",
       "      <td>3</td>\n",
       "      <td>-6.589362</td>\n",
       "      <td>0.108231</td>\n",
       "      <td>3.0</td>\n",
       "      <td>20.0</td>\n",
       "      <td>9</td>\n",
       "      <td>1.0</td>\n",
       "      <td>0.304900</td>\n",
       "      <td>-50.737607</td>\n",
       "    </tr>\n",
       "    <tr>\n",
       "      <th>15818</th>\n",
       "      <td>4</td>\n",
       "      <td>-6.903683</td>\n",
       "      <td>0.099624</td>\n",
       "      <td>3.0</td>\n",
       "      <td>23.0</td>\n",
       "      <td>7</td>\n",
       "      <td>0.0</td>\n",
       "      <td>0.311277</td>\n",
       "      <td>-49.114814</td>\n",
       "    </tr>\n",
       "    <tr>\n",
       "      <th>8612</th>\n",
       "      <td>2</td>\n",
       "      <td>-8.906276</td>\n",
       "      <td>0.038759</td>\n",
       "      <td>3.0</td>\n",
       "      <td>18.0</td>\n",
       "      <td>6</td>\n",
       "      <td>0.5</td>\n",
       "      <td>0.480043</td>\n",
       "      <td>-49.074055</td>\n",
       "    </tr>\n",
       "  </tbody>\n",
       "</table>\n",
       "</div>"
      ],
      "text/plain": [
       "       N_rotatable_bonds       ∆∆G  interaction_uniqueness_metric  \\\n",
       "15820                  5 -7.998571                       0.078042   \n",
       "13483                  2 -7.374585                       0.092267   \n",
       "23144                  3 -6.589362                       0.108231   \n",
       "15818                  4 -6.903683                       0.099624   \n",
       "8612                   2 -8.906276                       0.038759   \n",
       "\n",
       "       N_unconstrained_atoms  N_constrained_atoms  N_interactions  \\\n",
       "15820                    4.0                 23.0               8   \n",
       "13483                    1.0                 19.0               9   \n",
       "23144                    3.0                 20.0               9   \n",
       "15818                    3.0                 23.0               7   \n",
       "8612                     3.0                 18.0               6   \n",
       "\n",
       "       N_interactions_lost  max_hit_Tanimoto  ad_hoc_penalty  \n",
       "15820                  0.0          0.301237      -53.457788  \n",
       "13483                  1.5          0.135572      -51.404674  \n",
       "23144                  1.0          0.304900      -50.737607  \n",
       "15818                  0.0          0.311277      -49.114814  \n",
       "8612                   0.5          0.480043      -49.074055  "
      ]
     },
     "execution_count": 23,
     "metadata": {},
     "output_type": "execute_result"
    }
   ],
   "source": [
    "placements.loc[placements.outcome == 'acceptable']\\\n",
    "          .sort_values('ad_hoc_penalty')\\\n",
    "          .drop_duplicates('cluster')[list(weights.keys()) + ['ad_hoc_penalty']].head()"
   ]
  },
  {
   "cell_type": "code",
   "execution_count": null,
   "id": "ad43aa1f-a9c9-4291-b0a3-0ca99471c981",
   "metadata": {},
   "outputs": [],
   "source": [
    "placements.columns.to_list()"
   ]
  },
  {
   "cell_type": "code",
   "execution_count": 18,
   "id": "39849588-ee51-4e13-ac40-c99bd8a8d72b",
   "metadata": {},
   "outputs": [
    {
     "data": {
      "text/plain": [
       "{'N_rotatable_bonds': 3,\n",
       " '∆∆G': 3,\n",
       " 'interaction_uniqueness_metric': -20,\n",
       " 'N_unconstrained_atoms': 0.5,\n",
       " 'N_constrained_atoms': -0.2,\n",
       " 'N_interactions': -5,\n",
       " 'N_interactions_lost': 10,\n",
       " 'max_hit_Tanimoto': -1}"
      ]
     },
     "execution_count": 18,
     "metadata": {},
     "output_type": "execute_result"
    }
   ],
   "source": [
    "weights"
   ]
  },
  {
   "cell_type": "code",
   "execution_count": 17,
   "id": "4642cfc8-1c41-47d8-a2de-3822d20770d6",
   "metadata": {},
   "outputs": [
    {
     "name": "stdout",
     "output_type": "stream",
     "text": [
      "Help on function prep in module gist_import.execution:\n",
      "\n",
      "prep(df: 'pd.DataFrame', header: 'Chem.Mol', mol_col: 'str', name_col: 'str', outfile: 'str' = 'for_fragalysis.sdf', ref_mol_names: 'Optional[str]' = None, ref_pdb: 'Optional[str]' = None, extras: 'Optional[dict]' = None) -> 'None'\n",
      "    Prepare a SDF file for Fragalysis.\n",
      "    \n",
      "    \n",
      "    :param df: dataframe with molecules\n",
      "    :param header: Chem.Mol generated by ``generate_header`` for example\n",
      "    :param mol_col: name of the column containing the molecules\n",
      "    :param name_col: name of the column containing the names\n",
      "    :param outfile: name of the output file\n",
      "    :param ref_mol_names: comma separated list of names of the reference molecules (for all hits). Ignored if present.\n",
      "    :param ref_pdb: name of the protein to use. Ignored if present.\n",
      "    :param extras: Extra fields to add to the SDF file, these need to be in the ``header`` Chem.Mol\n",
      "    :return:\n",
      "\n",
      "Help on function generate_header in module gist_import.execution:\n",
      "\n",
      "generate_header(method: 'str', ref_url: 'Optional[str]' = 'https://www.example.com', submitter_name: 'Optional[str]' = 'unknown', submitter_email: 'Optional[str]' = 'a@b.c', submitter_institution: 'Optional[str]' = 'Nowehere', generation_date: 'Optional[str]' = '2023-08-16', smiles: 'Optional[str]' = 'CN1C=NC2=C1C(=O)N(C(=O)N2C)C', extras: 'Optional[dict]' = None) -> 'Chem.Mol'\n",
      "    Generate a header Chem.Mol for a SDF file in the ver_1.2 style.\n",
      "    cf. https://discuss.postera.ai/t/providing-computed-poses-for-others-to-look-at/1155/6\n",
      "    \n",
      "    :param method: **Unique** and compulsory. Note that it will be bleached.\n",
      "    :param ref_url:\n",
      "    :param submitter_name:\n",
      "    :param submitter_email:\n",
      "    :param submitter_institution:\n",
      "    :param generation_date:\n",
      "    :param smiles:\n",
      "    :param extras:  A dictionary of extra properties to add to the header.\n",
      "                    These will be present in all the molecules in the SDF for sortable tables!\n",
      "    :return: Chem.Mol\n",
      "\n"
     ]
    }
   ],
   "source": [
    "from gist_import import GistImporter\n",
    "\n",
    "fmodule = GistImporter.from_github('https://raw.githubusercontent.com/matteoferla/Fragment-hit-follow-up-chemistry/main/followup/prep_fragalysis.py')\n",
    "prep = fmodule['prep']\n",
    "help(prep)\n",
    "generate_header = fmodule['generate_header']\n",
    "help(generate_header)"
   ]
  },
  {
   "cell_type": "code",
   "execution_count": 36,
   "id": "87d13c76-5858-4e4a-a3db-a46221721d7e",
   "metadata": {},
   "outputs": [
    {
     "data": {
      "text/plain": [
       "array(['Enamine-SC-Stock-Mar2022.smi.anon',\n",
       "       'Enamine-BB-Stock-Mar2022.smi.anon', 'REAL-Database-22Q1.smi.anon',\n",
       "       'mcule_purchasable_building_blocks_230120.smi.anon',\n",
       "       'mcule_purchasable_virtual_230121.smi.anon',\n",
       "       'MculeUltimate-20Q2.smi.anon'], dtype=object)"
      ]
     },
     "execution_count": 36,
     "metadata": {},
     "output_type": "execute_result"
    }
   ],
   "source": [
    "placements['catalogue'].unique()"
   ]
  },
  {
   "cell_type": "code",
   "execution_count": 38,
   "id": "32172ec6-5c66-4679-8001-7b92da578782",
   "metadata": {},
   "outputs": [],
   "source": [
    "placements['Enamine'] = placements['catalogue'].apply(lambda n: n in ['Enamine-SC-Stock-Mar2022.smi.anon',\n",
    "       'Enamine-BB-Stock-Mar2022.smi.anon', 'REAL-Database-22Q1.smi.anon']).astype(int)\n",
    "placements['Mcule'] = placements['catalogue'].apply(lambda n: n in ['mcule_purchasable_building_blocks_230120.smi.anon',\n",
    "       'mcule_purchasable_virtual_230121.smi.anon',\n",
    "       'MculeUltimate-20Q2.smi.anon']).astype(int)\n",
    "placements = placements.copy()"
   ]
  },
  {
   "cell_type": "code",
   "execution_count": 58,
   "id": "4cfefcc4-6d0e-4dbd-adf3-5c3853e5a5a2",
   "metadata": {},
   "outputs": [
    {
     "name": "stderr",
     "output_type": "stream",
     "text": [
      "[20:19:14] Molecule does not have explicit Hs. Consider calling AddHs()\n"
     ]
    }
   ],
   "source": [
    "target_name='XX01ZVNS2B'\n",
    "method_name = 'Fragmenstein-pairs-no_curation'\n",
    "\n",
    "import numpy as np\n",
    "from rdkit import Chem\n",
    "from typing import List\n",
    "\n",
    "def fix(mol: Chem.Mol):\n",
    "    assert isinstance(mol, Chem.Mol)\n",
    "    assert mol.GetNumAtoms()\n",
    "    mol.ClearComputedProps()\n",
    "    for name in mol.GetPropNames():\n",
    "        mol.ClearProp(name)\n",
    "\n",
    "placements.loc[(placements.outcome == 'acceptable') \\\n",
    "                            & (placements['∆∆G'] <= -5) \\\n",
    "                            & (placements.largest_ring <= 10) \\\n",
    "                            & (placements.ad_hoc_penalty <= 0)\n",
    "                            ]\\\n",
    "                   .sort_values('ad_hoc_penalty')\\\n",
    "          .sort_values('ad_hoc_penalty')\\\n",
    "          .drop_duplicates('cluster')\\\n",
    "          .copy()\\\n",
    "          .to_pickle('fragmenstein_placed_paired_filtered.pkl.gz')\n",
    "\n",
    "\n",
    "with pd.option_context('mode.chained_assignment', None):\n",
    "\n",
    "    df = placements.loc[(placements.outcome == 'acceptable') \\\n",
    "                            & (placements['∆∆G'] <= -5) \\\n",
    "                            & (placements.largest_ring <= 10) \\\n",
    "                            & (placements.ad_hoc_penalty <= 0)\n",
    "                            ]\\\n",
    "                       .sort_values('ad_hoc_penalty')\\\n",
    "                       .drop_duplicates('cluster')\\\n",
    "                       .rename(columns={c: ':'.join(map(str, c)) for c in placements.columns if isinstance(c, tuple)})\\\n",
    "                       .reset_index()\\\n",
    "                       .head(500).copy()\n",
    "    # list of str to str w/ comma-separator\n",
    "    df['ref_mols'] = df.hit_names.apply(lambda l: ','.join([v.replace(f'{target_name}-', '') for v in l]))\n",
    "    # not used\n",
    "    df['washed_mol'] = df.minimized_mol.apply(fix)\n",
    "    df['name'] = df['name'].apply(lambda v: v.split('-'+target_name)[0])\n",
    "        \n",
    "numericals = [k for k, v in df.iloc[0].items() if type(v) in (int, np.int64, float, np.float64)]\n",
    "nonempty = [c for c, v in (df[[c for c in df.columns if ':' in c]].sum() > 0).to_dict().items() if v]\n",
    "extras: List[str] = [c for c in df.columns if c in numericals and ':' not in c] + nonempty\n",
    "bad_columns = [x for x, v in df[extras].astype(float).isna().any().to_dict().items() if v]\n",
    "assert not bad_columns, 'Some entries are not numeric'\n",
    "header: Chem.Mol = generate_header(method_name,\n",
    "                         ref_url='https://github.com/matteoferla/Fragment-hit-follow-up-chemistry',\n",
    "                         submitter_name='Matteo Ferla',\n",
    "                         submitter_email='matteo.ferla@stats.ox.ac.uk',\n",
    "                         extras=dict(zip(extras, extras))\n",
    "                        )\n",
    "prep(df, header, mol_col='minimized_mol', name_col='id',\n",
    "     outfile=f'{method_name}.sdf',\n",
    "     ref_pdb='x0051_0B',\n",
    "     extras=extras\n",
    "    )"
   ]
  },
  {
   "cell_type": "code",
   "execution_count": null,
   "id": "83b49389-ce2d-4ad9-a8e8-b6da090e088c",
   "metadata": {},
   "outputs": [],
   "source": []
  }
 ],
 "metadata": {
  "kernelspec": {
   "display_name": "Python [conda env:root] *",
   "language": "python",
   "name": "conda-root-py"
  },
  "language_info": {
   "codemirror_mode": {
    "name": "ipython",
    "version": 3
   },
   "file_extension": ".py",
   "mimetype": "text/x-python",
   "name": "python",
   "nbconvert_exporter": "python",
   "pygments_lexer": "ipython3",
   "version": "3.11.4"
  }
 },
 "nbformat": 4,
 "nbformat_minor": 5
}
