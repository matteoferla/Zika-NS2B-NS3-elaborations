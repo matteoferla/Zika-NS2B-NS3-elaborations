{
 "cells": [
  {
   "cell_type": "code",
   "execution_count": 1,
   "id": "4bcc089c-2900-402e-9be7-baf165ae7a12",
   "metadata": {},
   "outputs": [
    {
     "name": "stderr",
     "output_type": "stream",
     "text": [
      "/data/xchem-fragalysis/mferla/waconda/envs/compchem/lib/python3.11/site-packages/Bio/pairwise2.py:278: BiopythonDeprecationWarning: Bio.pairwise2 has been deprecated, and we intend to remove it in a future release of Biopython. As an alternative, please consider using Bio.Align.PairwiseAligner as a replacement, and contact the Biopython developers if you still need the Bio.pairwise2 module.\n",
      "  warnings.warn(\n"
     ]
    },
    {
     "data": {
      "application/vnd.jupyter.widget-view+json": {
       "model_id": "09254e2a3d28420387abd06e178cc5e6",
       "version_major": 2,
       "version_minor": 0
      },
      "text/plain": []
     },
     "metadata": {},
     "output_type": "display_data"
    }
   ],
   "source": [
    "import pyrosetta_help as ph\n",
    "from pathlib import Path\n",
    "import pyrosetta\n",
    "import pyrosetta_help as ph\n",
    "from types import ModuleType\n",
    "from collections import Counter\n",
    "prc: ModuleType = pyrosetta.rosetta.core\n",
    "prp: ModuleType = pyrosetta.rosetta.protocols\n",
    "prcc: ModuleType = pyrosetta.rosetta.core.conformation\n",
    "pr_scoring: ModuleType = pyrosetta.rosetta.core.scoring\n",
    "pr_options: ModuleType = pyrosetta.rosetta.basic.options\n",
    "\n",
    "\n",
    "logger = ph.configure_logger()\n",
    "pyrosetta.distributed.maybe_init(extra_options=ph.make_option_string(no_optH=False,\n",
    "                                                                     ex1=None,\n",
    "                                                                     ex2=None,\n",
    "                                                                     # mute='all',\n",
    "                                                                     ignore_unrecognized_res=True,\n",
    "                                                                     load_PDB_components=False,\n",
    "                                                                     ignore_waters=True)\n",
    "                                 )\n",
    "\n",
    "\n",
    "def scan(pose, name, chains, interfaces, offset=1):\n",
    "    aas = {\n",
    "        \"A\": \"Ala\",\n",
    "        \"R\": \"Arg\",\n",
    "        \"N\": \"Asn\",\n",
    "        \"D\": \"Asp\",\n",
    "        \"C\": \"Cys\",\n",
    "        \"E\": \"Glu\",\n",
    "        \"Q\": \"Gln\",\n",
    "        \"G\": \"Gly\",\n",
    "        \"H\": \"His\",\n",
    "        \"I\": \"Ile\",\n",
    "        \"L\": \"Leu\",\n",
    "        \"K\": \"Lys\",\n",
    "        \"M\": \"Met\",\n",
    "        \"F\": \"Phe\",\n",
    "        \"P\": \"Pro\",\n",
    "        \"S\": \"Ser\",\n",
    "        \"T\": \"Thr\",\n",
    "        \"W\": \"Trp\",\n",
    "        \"Y\": \"Tyr\",\n",
    "        \"V\": \"Val\"\n",
    "    }\n",
    "    model = ph.MutantScorer(pose, modelname=name)\n",
    "    model.scorefxn = pyrosetta.create_score_function('ref2015')\n",
    "    model.strict_about_starting_residue = True\n",
    "    mutations = [f'{aas[r]}{i+offset}{t}' for i, r in enumerate(pose.chain_sequence(2)) for t in aas.values()]\n",
    "    data = model.score_mutations(mutations,\n",
    "                                 chains=chains,\n",
    "                                 interfaces=interfaces,  #\n",
    "                                 preminimize=False,\n",
    "                                 distance=8,\n",
    "                                 cycles=5)\n",
    "    import pandas as pd\n",
    "    scores = pd.DataFrame(data)\n",
    "    ph.extend_scores(scores)\n",
    "    return scores"
   ]
  },
  {
   "cell_type": "code",
   "execution_count": null,
   "id": "fa51f012-ba4c-4623-af07-d79b627b5432",
   "metadata": {},
   "outputs": [],
   "source": [
    "filename = 'collage.weak_con.pdb'\n",
    "pose = pyrosetta.pose_from_file(filename)\n",
    "open_cores = scan(pose, 'open', chains='B', offset=16, interfaces=(('isolated', 'A_B'),))\n",
    "open_scores.to_csv('open_mutational_scan.csv')\n",
    "\n",
    "filename = 'template2.pdb'\n",
    "closed_pose = pyrosetta.pose_from_file(filename)\n",
    "closed_scores = scan(pose, 'ref', chains='B', offset=16, interfaces=(('isolated', 'A_B'),))\n",
    "closed_scores.to_csv('open_mutational_scan.csv')"
   ]
  },
  {
   "cell_type": "code",
   "execution_count": null,
   "id": "77643398-3d84-4e0e-99a5-1cf3eb45b255",
   "metadata": {},
   "outputs": [],
   "source": []
  }
 ],
 "metadata": {
  "kernelspec": {
   "display_name": "Python [conda env:compchem]",
   "language": "python",
   "name": "conda-env-compchem-py"
  },
  "language_info": {
   "codemirror_mode": {
    "name": "ipython",
    "version": 3
   },
   "file_extension": ".py",
   "mimetype": "text/x-python",
   "name": "python",
   "nbconvert_exporter": "python",
   "pygments_lexer": "ipython3",
   "version": "3.11.6"
  }
 },
 "nbformat": 4,
 "nbformat_minor": 5
}
