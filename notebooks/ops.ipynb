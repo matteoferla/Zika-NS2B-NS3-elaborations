{
 "cells": [
  {
   "cell_type": "code",
   "execution_count": 2,
   "id": "d2bab27e-5655-4877-90a6-bedc12f28c6b",
   "metadata": {},
   "outputs": [],
   "source": [
    "from rdkit import Chem\n",
    "from typing import List\n",
    "\n",
    "with Chem.SDMolSupplier('XX01ZVNS2B.corrected.sdf') as sd:\n",
    "    hits : List[Chem.Mol] = list(sd)"
   ]
  },
  {
   "cell_type": "code",
   "execution_count": 7,
   "id": "8f50dc4a-2864-4d92-8976-02a2b49401ef",
   "metadata": {},
   "outputs": [],
   "source": [
    "from fragmenstein.laboratory.validator import place_input_validator"
   ]
  },
  {
   "cell_type": "code",
   "execution_count": 15,
   "id": "3e696d23-e5d5-4a74-97b7-74086b6df207",
   "metadata": {},
   "outputs": [
    {
     "data": {
      "text/plain": [
       "[0, 10]"
      ]
     },
     "execution_count": 15,
     "metadata": {},
     "output_type": "execute_result"
    }
   ],
   "source": [
    "list(range(0, 10 + 10, 10))"
   ]
  },
  {
   "cell_type": "code",
   "execution_count": 18,
   "id": "d57a2ec2-c2cf-4895-8a79-9d948dab8bc3",
   "metadata": {},
   "outputs": [],
   "source": [
    "import pandas as pd\n",
    "\n",
    "hit_replacements = pd.read_pickle('fragmenstein_hit_replacements_1.pkl.gz')"
   ]
  },
  {
   "cell_type": "code",
   "execution_count": 19,
   "id": "fc51fe13-458b-4b95-83b7-917a5d15d0f2",
   "metadata": {},
   "outputs": [],
   "source": [
    "combinations  = pd.read_pickle('fragmenstein_mergers_1.pkl.gz')"
   ]
  },
  {
   "cell_type": "code",
   "execution_count": 21,
   "id": "9ef1b1f0-d032-46f9-a92b-e3c9fe51c014",
   "metadata": {},
   "outputs": [],
   "source": [
    "combinations['hit_names'] = combinations.hit_mols \\\n",
    "        .apply(lambda v: v if isinstance(v, list) else []) \\\n",
    "        .apply(lambda v: [m.GetProp('_Name') for m in v])"
   ]
  },
  {
   "cell_type": "code",
   "execution_count": 37,
   "id": "1116ac4e-50e3-423f-b48e-b990f2074ef1",
   "metadata": {},
   "outputs": [],
   "source": [
    "dG_mapping = hit_replacements.set_index('name')['∆∆G'].to_dict()\n",
    "dG_mapping.update({k.replace('-', '_'): v for k, v in dG_mapping.items()})"
   ]
  },
  {
   "cell_type": "code",
   "execution_count": 52,
   "id": "feab05a9-2200-45aa-bdda-5071a8f2b69e",
   "metadata": {},
   "outputs": [],
   "source": []
  },
  {
   "cell_type": "code",
   "execution_count": 53,
   "id": "39d52fc2-979b-428f-a875-d6df086d02ff",
   "metadata": {},
   "outputs": [
    {
     "data": {
      "text/plain": [
       "acceptable       381\n",
       "too distant      370\n",
       "equally sized    286\n",
       "weaker           237\n",
       "crashed          236\n",
       "timeout          110\n",
       "too moved        101\n",
       "too contorted      1\n",
       "Name: outcome, dtype: int64"
      ]
     },
     "execution_count": 53,
     "metadata": {},
     "output_type": "execute_result"
    }
   ],
   "source": [
    "combinations.outcome.value_counts()"
   ]
  },
  {
   "cell_type": "code",
   "execution_count": 36,
   "id": "a2b20144-f5cb-4903-b994-c0032866c90b",
   "metadata": {},
   "outputs": [
    {
     "data": {
      "text/plain": [
       "'x0051_0B'"
      ]
     },
     "execution_count": 36,
     "metadata": {},
     "output_type": "execute_result"
    }
   ],
   "source": [
    "combinations.hit_names[0][0]"
   ]
  },
  {
   "cell_type": "code",
   "execution_count": null,
   "id": "64c22150-19fd-40c8-a573-7a34d8a9ac11",
   "metadata": {},
   "outputs": [],
   "source": []
  }
 ],
 "metadata": {
  "kernelspec": {
   "display_name": "Python [conda env:root] *",
   "language": "python",
   "name": "conda-root-py"
  },
  "language_info": {
   "codemirror_mode": {
    "name": "ipython",
    "version": 3
   },
   "file_extension": ".py",
   "mimetype": "text/x-python",
   "name": "python",
   "nbconvert_exporter": "python",
   "pygments_lexer": "ipython3",
   "version": "3.11.4"
  }
 },
 "nbformat": 4,
 "nbformat_minor": 5
}
