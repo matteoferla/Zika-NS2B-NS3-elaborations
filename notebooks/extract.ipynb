{
 "cells": [
  {
   "cell_type": "code",
   "execution_count": 2,
   "id": "d7fb1d0f-fdd8-44fa-b354-17c814e5fbc9",
   "metadata": {},
   "outputs": [
    {
     "name": "stdout",
     "output_type": "stream",
     "text": [
      "  % Total    % Received % Xferd  Average Speed   Time    Time     Time  Current\n",
      "                                 Dload  Upload   Total   Spent    Left  Speed\n",
      "100  257M  100  257M    0     0  10.6M      0  0:00:24  0:00:24 --:--:-- 11.5M\n"
     ]
    }
   ],
   "source": [
    "!curl https://fragalysis.diamond.ac.uk/media/targets/XX01ZVNS2B.zip --output XX01ZVNS2B.zip"
   ]
  },
  {
   "cell_type": "code",
   "execution_count": 3,
   "id": "ddf8cf9e-1d65-480d-b2e8-ce8112ce5031",
   "metadata": {},
   "outputs": [],
   "source": [
    "target_name = 'XX01ZVNS2B'"
   ]
  },
  {
   "cell_type": "code",
   "execution_count": 4,
   "id": "76690119-528d-48ea-881f-854c5cb760f1",
   "metadata": {},
   "outputs": [
    {
     "ename": "AssertionError",
     "evalue": "No combined sdf even corrupted in Zip",
     "output_type": "error",
     "traceback": [
      "\u001b[0;31m---------------------------------------------------------------------------\u001b[0m",
      "\u001b[0;31mAssertionError\u001b[0m                            Traceback (most recent call last)",
      "Cell \u001b[0;32mIn[4], line 6\u001b[0m\n\u001b[1;32m      4\u001b[0m \u001b[38;5;28;01massert\u001b[39;00m Path(\u001b[38;5;124mf\u001b[39m\u001b[38;5;124m'\u001b[39m\u001b[38;5;132;01m{\u001b[39;00mtarget_name\u001b[38;5;132;01m}\u001b[39;00m\u001b[38;5;124m.zip\u001b[39m\u001b[38;5;124m'\u001b[39m)\u001b[38;5;241m.\u001b[39mexists(), \u001b[38;5;124mf\u001b[39m\u001b[38;5;124m'\u001b[39m\u001b[38;5;124mNo \u001b[39m\u001b[38;5;132;01m{\u001b[39;00mtarget_name\u001b[38;5;132;01m}\u001b[39;00m\u001b[38;5;124m.zip file\u001b[39m\u001b[38;5;124m'\u001b[39m\n\u001b[1;32m      5\u001b[0m \u001b[38;5;28;01mwith\u001b[39;00m zipfile\u001b[38;5;241m.\u001b[39mZipFile(\u001b[38;5;124mf\u001b[39m\u001b[38;5;124m'\u001b[39m\u001b[38;5;132;01m{\u001b[39;00mtarget_name\u001b[38;5;132;01m}\u001b[39;00m\u001b[38;5;124m.zip\u001b[39m\u001b[38;5;124m'\u001b[39m) \u001b[38;5;28;01mas\u001b[39;00m zfh:\n\u001b[0;32m----> 6\u001b[0m     \u001b[38;5;28;01massert\u001b[39;00m [fn \u001b[38;5;28;01mfor\u001b[39;00m fn \u001b[38;5;129;01min\u001b[39;00m zfh\u001b[38;5;241m.\u001b[39mnamelist() \u001b[38;5;28;01mif\u001b[39;00m \u001b[38;5;124m'\u001b[39m\u001b[38;5;124m.sdf\u001b[39m\u001b[38;5;124m'\u001b[39m \u001b[38;5;129;01min\u001b[39;00m fn \u001b[38;5;129;01mand\u001b[39;00m \u001b[38;5;124m'\u001b[39m\u001b[38;5;124m/\u001b[39m\u001b[38;5;124m'\u001b[39m \u001b[38;5;129;01mnot\u001b[39;00m \u001b[38;5;129;01min\u001b[39;00m fn],\\\n\u001b[1;32m      7\u001b[0m             \u001b[38;5;124m'\u001b[39m\u001b[38;5;124mNo combined sdf even corrupted in Zip\u001b[39m\u001b[38;5;124m'\u001b[39m\n",
      "\u001b[0;31mAssertionError\u001b[0m: No combined sdf even corrupted in Zip"
     ]
    }
   ],
   "source": [
    "import zipfile\n",
    "from pathlib import Path\n",
    "\n",
    "assert Path(f'{target_name}.zip').exists(), f'No {target_name}.zip file'\n",
    "with zipfile.ZipFile(f'{target_name}.zip') as zfh:\n",
    "    assert [fn for fn in zfh.namelist() if '.sdf' in fn and '/' not in fn],\\\n",
    "            'No combined sdf even corrupted in Zip'"
   ]
  },
  {
   "cell_type": "code",
   "execution_count": 5,
   "id": "dcfb1f72-2a3f-484d-86b9-52ec9ec289ed",
   "metadata": {},
   "outputs": [],
   "source": [
    "from pathlib import Path\n",
    "from rdkit import Chem\n",
    "from typing import List\n",
    "\n",
    "hits: List[Chem.Mol] = []\n",
    "\n",
    "def poorly_extract(pdbblock) -> List[Chem.Mol]:\n",
    "    # RDKit has an issue with altLocs and I don't want to use PyMol\n",
    "    pdbs = []\n",
    "    lines = [line for line in pdbblock.split('\\n') if 'HETATM' in line]\n",
    "    for altloc in (' ', 'A', 'B', 'C', 'D', 'E'):\n",
    "        pdb = Chem.MolFromPDBBlock('\\n'.join([line for line in lines if altloc+'LIG' in line]).replace(altloc+'LIG', ' LIG'))\n",
    "        if pdb and pdb.GetNumAtoms():\n",
    "            pdbs.extend(Chem.GetMolFrags(pdb, asMols=True, sanitizeFrags=False))\n",
    "    return pdbs\n",
    "\n",
    "def add_info(mol, pdb_mols, n, chain):\n",
    "    j = 0\n",
    "    for pdb_mol in pdb_mols:\n",
    "        if pdb_mol.GetAtomWithIdx(0).GetPDBResidueInfo().GetChainId() != chain:\n",
    "            continue\n",
    "        for ref_atom, pdb_atom in zip(mol.GetAtoms(), pdb_mol.GetAtoms()):\n",
    "            info = pdb_atom.GetPDBResidueInfo()\n",
    "            ref_atom.SetProp('name', info.GetName())\n",
    "            ref_atom.SetProp('molFileAlias', info.GetName())\n",
    "            ref_atom.SetIntProp('resi', info.GetResidueNumber())\n",
    "            ref_atom.SetProp('resn', info.GetResidueName())\n",
    "            ref_atom.SetProp('altLoc', info.GetAltLoc())\n",
    "            ref_atom.SetDoubleProp('bfactor', info.GetTempFactor())\n",
    "            ref_atom.SetDoubleProp('occupancy', info.GetOccupancy())\n",
    "        return\n",
    "    else:\n",
    "        raise Exception(f'{j}, {n}, {chain}')\n",
    "        \n",
    "for path in (Path(target_name) / 'aligned').glob('*/*'):\n",
    "    if path.suffix != '.sdf':\n",
    "        continue\n",
    "    name = path.name[:-len(path.suffix)]\n",
    "    pdb_path = path.parent / f'{name}_bound.pdb'\n",
    "    assert pdb_path.exists(), f'{pdb_path} does not exist'\n",
    "    pdb_mols = poorly_extract(pdb_path.read_text())\n",
    "    assert pdb_mols, f'{pdb_path} is rotten'\n",
    "    with Chem.SDMolSupplier(str(path)) as sds:\n",
    "        for mol in sds:\n",
    "            mol.SetProp('_Name', name)\n",
    "            add_info(mol, pdb_mols, n=int(name.split('_')[1][:-1]),chain=name.split('_')[1][-1] )\n",
    "            hits.append(mol)"
   ]
  },
  {
   "cell_type": "code",
   "execution_count": 7,
   "id": "c598ce7b-4afc-4782-b040-0e3dcd6118bb",
   "metadata": {},
   "outputs": [],
   "source": [
    "keep_prefix = False\n",
    "\n",
    "import os\n",
    "import json\n",
    "from pathlib import Path\n",
    "from rdkit import Chem\n",
    "from rdkit.Chem import PandasTools, AllChem, Draw\n",
    "from rdkit.Chem.MolStandardize.rdMolStandardize import LargestFragmentChooser\n",
    "import pandas as pd\n",
    "import ipywidgets as wd\n",
    "\n",
    "# with Chem.SDMolSupplier(f'{target_name}_combined.sdf') as sdf_r:\n",
    "#     hits = list(sdf_r)\n",
    "\n",
    "\n",
    "metadata: pd.DataFrame = pd.read_csv(Path(target_name) / 'metadata.csv', index_col=0)\n",
    "\n",
    "if keep_prefix:\n",
    "    metadata['code'] = metadata.crystal_name\n",
    "else:\n",
    "    metadata['code'] = metadata.crystal_name.str.replace(f'{target_name}-', '')\n",
    "metadata = metadata.set_index('crystal_name')\n",
    "# remove the salts from the SMILES\n",
    "metadata['smiles'] = metadata.smiles.apply(lambda v: sorted(v.split('.'), key=len)[-1])\n",
    "# add the mol\n",
    "metadata['mol'] = {h.GetProp('_Name'): h for h in hits}\n",
    "assert sum(metadata.mol.isna()) == 0, 'Mol name matching issue'\n",
    "fix = lambda row: AllChem.AssignBondOrdersFromTemplate(Chem.MolFromSmiles(row.smiles), row.mol)\n",
    "metadata['mol'] = metadata.apply(fix, axis=1)\n",
    "metadata['occupancies'] = metadata.mol.apply(lambda m: json.dumps([a.GetDoubleProp('occupancy') for a in m.GetAtoms()]))\n",
    "metadata['bfactor'] = metadata.mol.apply(lambda m: json.dumps([a.GetDoubleProp('bfactor') for a in m.GetAtoms()]))\n",
    "\n",
    "PandasTools.WriteSDF(df=metadata.reset_index(), \n",
    "                     out=f'{target_name}.corrected.sdf',\n",
    "                     molColName='mol', idName='code',\n",
    "                     properties=['crystal_name', 'RealCrystalName', 'smiles', \n",
    "                                 'alternate_name', 'site_name', 'occupancies', 'bfactor'])"
   ]
  },
  {
   "cell_type": "code",
   "execution_count": 40,
   "id": "c11ec3c7-f65a-48f3-b59e-97b15cded4a1",
   "metadata": {},
   "outputs": [],
   "source": []
  },
  {
   "cell_type": "code",
   "execution_count": 10,
   "id": "c917bf9c-877c-4634-bf27-9cbec52f7047",
   "metadata": {},
   "outputs": [],
   "source": [
    "\n",
    "PandasTools.WriteSDF(df=metadata.loc[metadata.site_name.isin(['S2', 'S1', 'S3'])].reset_index(), \n",
    "                     out=f'{target_name}.filtered.sdf',\n",
    "                     molColName='mol', idName='code',\n",
    "                     properties=['crystal_name', 'RealCrystalName', 'smiles', \n",
    "                                 'alternate_name', 'site_name', 'occupancies', 'bfactor'])"
   ]
  },
  {
   "cell_type": "code",
   "execution_count": null,
   "id": "cf1cce38-cafd-4f89-ab13-958f4a4400ab",
   "metadata": {},
   "outputs": [],
   "source": []
  },
  {
   "cell_type": "code",
   "execution_count": null,
   "id": "703f2d7b-df3f-4e1a-a0cb-ecb0264cf8b8",
   "metadata": {},
   "outputs": [],
   "source": []
  },
  {
   "cell_type": "code",
   "execution_count": 4,
   "id": "3badff20-42d0-485d-beb6-5bb22ea1d20b",
   "metadata": {},
   "outputs": [],
   "source": [
    "from pathlib import Path\n",
    "\n",
    "target_name = 'XX01ZVNS2B'\n",
    "\n",
    "import zipfile\n",
    "from pathlib import Path\n",
    "\n",
    "folder = Path(target_name) / 'aligned'\n",
    "\n",
    "assert folder.exists()\n",
    "\n",
    "import pymol2\n",
    "\n",
    "with pymol2.PyMOL() as pymol:\n",
    "    for code in ('x0884_1B','x0182_0B'):\n",
    "        path = next(iter(folder.glob(f'*{code}*/*{code}_bound.pdb')))\n",
    "        pymol.cmd.load(str(path), code)\n",
    "    pymol.cmd.save('allo.pse')\n",
    "\n"
   ]
  },
  {
   "cell_type": "code",
   "execution_count": 5,
   "id": "270160bc-6930-4d74-9104-6eceb67d0c8e",
   "metadata": {},
   "outputs": [
    {
     "data": {
      "application/vnd.jupyter.widget-view+json": {
       "model_id": "25b7696aa5fc40d3a7072e61b34a6fe8",
       "version_major": 2,
       "version_minor": 0
      },
      "text/plain": []
     },
     "metadata": {},
     "output_type": "display_data"
    }
   ],
   "source": [
    "import fragmenstein"
   ]
  },
  {
   "cell_type": "code",
   "execution_count": 5,
   "id": "22ab0ba6",
   "metadata": {},
   "outputs": [
    {
     "name": "stdout",
     "output_type": "stream",
     "text": [
      "XX01ZVNS2B/aligned/XX01ZVNS2B-x0051_0B/XX01ZVNS2B-x0051_0B_bound.pdb\r\n"
     ]
    }
   ],
   "source": [
    "!ls XX01ZVNS2B/aligned/XX01ZVNS2B-x0051_0B/XX01ZVNS2B-x0051_0B_bound.pdb"
   ]
  },
  {
   "cell_type": "code",
   "execution_count": 9,
   "id": "d7b33709",
   "metadata": {},
   "outputs": [],
   "source": [
    "def add_my_settings(pymol):\n",
    "    cmd = pymol.cmd\n",
    "    \n",
    "    # Set fetch path\n",
    "    cmd.set(\"fetch_path\", \"/Users/matteo/pymol_PDBs\")\n",
    "    \n",
    "    # Set other options\n",
    "    cmd.set(\"use_shaders\", 0)\n",
    "    cmd.set(\"ray_shadows\", 0)\n",
    "    cmd.set(\"ray_trace_mode\", 3)\n",
    "    cmd.bg_color(\"white\")\n",
    "    \n",
    "    # Alias backless\n",
    "    cmd.alias(\"backless\", 'hide sticks, (name C+N+H+HA+O and not resn pro) or (name C+H+HA+O and resn pro)')\n",
    "    \n",
    "    # Set custom colors\n",
    "    cmd.set_color(\"turquoise\", [0.18823529411764706, 0.8352941176470589, 0.7843137254901961])\n",
    "    cmd.set_color(\"coral\", [1.0, 0.4980392156862745, 0.3137254901960784])\n",
    "    cmd.set_color(\"teal\", [0.0, 0.5019607843137255, 0.5019607843137255])\n",
    "    cmd.set_color(\"sage\", [0.6980392156862745, 0.6745098039215687, 0.5333333333333333])\n",
    "    cmd.set_color(\"lavender\", [0.9019607843137255, 0.9019607843137255, 0.9803921568627451])\n",
    "    cmd.set_color(\"mustard\", [1.0, 0.8588235294117647, 0.34509803921568627])\n",
    "    cmd.set_color(\"aquamarine\", [0.4980392156862745, 1.0, 0.8313725490196079])\n",
    "    cmd.set_color(\"feijoa\", [0.6470588235294118, 0.8431372549019608, 0.5215686274509804])\n",
    "    cmd.set_color(\"rose\", [1.0, 0.0, 0.4980392156862745])\n",
    "    cmd.set_color(\"paleturquoise\", [0.6862745098039216, 0.9333333333333333, 0.9333333333333333])\n",
    "    cmd.set_color(\"lightcoral\", [0.9411764705882353, 0.5019607843137255, 0.5019607843137255])\n",
    "    cmd.set_color(\"lightpurple\", [0.8117647058823529, 0.6235294117647059, 1.0])\n",
    "    cmd.set_color(\"lightblue\", [0.5294117647058824, 0.807843137254902, 0.9803921568627451])\n",
    "    cmd.set_color(\"lightgreen\", [0.5647058823529412, 0.9333333333333333, 0.5647058823529412])\n",
    "    cmd.set_color(\"lightyellow\", [1.0, 1.0, 0.8784313725490196])\n",
    "    cmd.set_color(\"lightorange\", [1.0, 0.6274509803921569, 0.47843137254901963])\n",
    "    cmd.set_color(\"lightpink\", [1.0, 0.7137254901960784, 0.7568627450980392])\n",
    "    cmd.set_color(\"robinsegg\", [0.0, 0.8, 0.8])\n",
    "    cmd.set_color(\"cerulean\", [0.0, 0.4823529411764706, 0.6549019607843137])\n",
    "    cmd.set_color(\"periwinkle\", [0.8, 0.8, 1.0])\n",
    "    cmd.set_color(\"fragmenstein\", [0.6823529411764706, 0.8470588235294118, 0.5098039215686274])\n",
    "    cmd.set_color(\"fragmenstein2\", [0.5058823529411764, 0.8352941176470589, 1.0])\n",
    "    cmd.set_color(\"fragmenstein3\", [1.0, 0.6862745098039216, 0.8156862745098039])\n",
    "    cmd.set_color(\"oxford\", [0.0, 0.12941176470588237, 0.2784313725490196])\n",
    " "
   ]
  },
  {
   "cell_type": "code",
   "execution_count": 10,
   "id": "ca020e04-a10f-444c-b395-04eae5a1d376",
   "metadata": {},
   "outputs": [],
   "source": [
    "from pathlib import Path\n",
    "import pymol2\n",
    "\n",
    "with pymol2.PyMOL() as pymol:\n",
    "    add_my_settings(pymol)\n",
    "    pymol.cmd.load('template2.pdb', 'template')\n",
    "    for path in Path('XX01ZVNS2B/aligned').glob('*/*_bound.pdb'):\n",
    "        name = path.stem.replace('XX01ZVNS2B-', '').split('_')[0]\n",
    "        if name in pymol.cmd.get_names():\n",
    "            continue\n",
    "        pymol.cmd.load(path.as_posix(), name)\n",
    "        pymol.cmd.align(name, 'template')\n",
    "    pymol.cmd.color('0x40E0D0', 'element C')\n",
    "    pymol.cmd.color('0xF88379', 'element C and resn LIG')\n",
    "    pymol.cmd.disable('template')\n",
    "    pymol.cmd.save('combined.pse')"
   ]
  },
  {
   "cell_type": "code",
   "execution_count": null,
   "id": "31f4a453",
   "metadata": {},
   "outputs": [],
   "source": []
  }
 ],
 "metadata": {
  "kernelspec": {
   "display_name": "Python [conda env:py310]",
   "language": "python",
   "name": "conda-env-py310-py"
  },
  "language_info": {
   "codemirror_mode": {
    "name": "ipython",
    "version": 3
   },
   "file_extension": ".py",
   "mimetype": "text/x-python",
   "name": "python",
   "nbconvert_exporter": "python",
   "pygments_lexer": "ipython3",
   "version": "3.10.10"
  }
 },
 "nbformat": 4,
 "nbformat_minor": 5
}
