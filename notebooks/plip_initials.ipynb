{
 "cells": [
  {
   "cell_type": "code",
   "execution_count": 2,
   "id": "540e1b35-58fb-4b33-8734-ce3fb688e59f",
   "metadata": {},
   "outputs": [
    {
     "data": {
      "text/plain": [
       "(PosixPath('XX01ZVNS2B/.DS_Store'),\n",
       " PosixPath('XX01ZVNS2B/crystallographic'),\n",
       " PosixPath('XX01ZVNS2B/aligned'),\n",
       " PosixPath('XX01ZVNS2B/metadata.csv'),\n",
       " PosixPath('XX01ZVNS2B/alternate_names.csv'),\n",
       " PosixPath('XX01ZVNS2B/hits_ids.csv'),\n",
       " PosixPath('XX01ZVNS2B/sites.csv'),\n",
       " PosixPath('XX01ZVNS2B/reference.pdb'))"
      ]
     },
     "execution_count": 2,
     "metadata": {},
     "output_type": "execute_result"
    }
   ],
   "source": [
    "*(reference_path).glob('*'),"
   ]
  },
  {
   "cell_type": "code",
   "execution_count": 1,
   "id": "2a3b7758-be73-43f0-8c9e-2f985c007a54",
   "metadata": {},
   "outputs": [],
   "source": [
    "from pathlib import Path\n",
    "target_name = 'XX01ZVNS2B'\n",
    "reference_path = Path(target_name)"
   ]
  },
  {
   "cell_type": "code",
   "execution_count": 3,
   "id": "ea8e7c49-1a8f-4a68-bc0a-78e408155078",
   "metadata": {},
   "outputs": [],
   "source": [
    "import pandas as pd\n",
    "\n",
    "meta = pd.read_csv(reference_path / 'metadata.csv') # site_name smiles"
   ]
  },
  {
   "cell_type": "code",
   "execution_count": 4,
   "id": "d8082090-0823-4c33-a7ae-51b088214966",
   "metadata": {},
   "outputs": [
    {
     "name": "stderr",
     "output_type": "stream",
     "text": [
      "/Users/user/.conda/envs/py310/lib/python3.10/site-packages/Bio/pairwise2.py:278: BiopythonDeprecationWarning: Bio.pairwise2 has been deprecated, and we intend to remove it in a future release of Biopython. As an alternative, please consider using Bio.Align.PairwiseAligner as a replacement, and contact the Biopython developers if you still need the Bio.pairwise2 module.\n",
      "  warnings.warn(\n"
     ]
    },
    {
     "data": {
      "application/vnd.jupyter.widget-view+json": {
       "model_id": "c91a128b6f3c4a9dbdefef3c581ccbb0",
       "version_major": 2,
       "version_minor": 0
      },
      "text/plain": []
     },
     "metadata": {},
     "output_type": "display_data"
    },
    {
     "name": "stdout",
     "output_type": "stream",
     "text": [
      "PyRosetta-4 2023 [Rosetta PyRosetta4.Release.python310.m1 2023.16+release.942c01d5066fd96860b7d268702b832fe906a739 2023-04-12T15:05:51] retrieved from: http://www.pyrosetta.org\n",
      "(C) Copyright Rosetta Commons Member Institutions. Created in JHU by Sergey Lyskov and PyRosetta Team.\n"
     ]
    }
   ],
   "source": [
    "import pyrosetta\n",
    "import pyrosetta_help as ph\n",
    "import logging\n",
    "\n",
    "logger = ph.configure_logger()\n",
    "logger.handlers[0].setLevel(logging.ERROR)\n",
    "\n",
    "\n",
    "extra_options = ph.make_option_string(no_optH=False,\n",
    "                                      ex1=None,\n",
    "                                      ex2=None,\n",
    "                                      #mute='all',\n",
    "                                      ignore_unrecognized_res=True,\n",
    "                                      load_PDB_components=False,\n",
    "                                      ignore_waters=False)\n",
    "pyrosetta.init(extra_options=extra_options)"
   ]
  },
  {
   "cell_type": "code",
   "execution_count": 5,
   "id": "f064707d-89b7-4a4e-9766-10ee00c7bd50",
   "metadata": {},
   "outputs": [],
   "source": [
    "from rdkit import Chem\n",
    "from rdkit.Chem import AllChem, Draw\n",
    "from rdkit_to_params import Params\n",
    "from typing import List, Dict, Union, Optional, Any, Sequence\n",
    "\n",
    "logger = logging.getLogger()\n",
    "if logger.handlers:\n",
    "    logger.handlers[0].setLevel(logging.ERROR)\n",
    "    \n",
    "    \n",
    "import os\n",
    "import importlib.util\n",
    "from types import ModuleType\n",
    "\n",
    "def import_path(module_path, module_name='custom_module') -> ModuleType:\n",
    "    \"\"\"\n",
    "    A more elegant way that the adding to PATH via sys IMO.\n",
    "    \"\"\"\n",
    "    spec = importlib.util.spec_from_file_location(module_name, module_path)\n",
    "    mod = importlib.util.module_from_spec(spec)\n",
    "    spec.loader.exec_module(mod)\n",
    "    return mod\n",
    "\n",
    "\n",
    "from plip.basic import config\n",
    "\n",
    "config.NOHYDRO = True\n",
    "# config.NOPDBCANMAP = False # no idea.\n",
    "# config.KEEPMOD these are mod residues...\n",
    "\n",
    "\n",
    "module_path = (Path.home() / 'Coding' / 'Fragment-hit-follow-chemistry' / 'followup' / 'plip.py')\n",
    "SerialPLIPper = import_path(module_path).SerialPLIPper\n",
    "    \n",
    "def load_pose(holo_path: Union[str, Path], smiles: str):\n",
    "    #pose = ph.parameterized_pose_from_file(holo_path, wanted_ligands={'LIG': smiles}, proximityBonding=True)\n",
    "    params = Params.from_smiles_w_pdbfile(str(holo_path), smiles=smiles, name='LIG', proximityBonding=True)\n",
    "    pose = pyrosetta.Pose()\n",
    "    params.add_residuetype(pose, True)\n",
    "    pyrosetta.pose_from_file(pose, str(holo_path))\n",
    "    return pose, params\n",
    "\n",
    "def lig_details(pose: pyrosetta.Pose, resn='LIG'):\n",
    "    # this is a weird way of doing but \n",
    "    # the Selector approach is glitchy nn-std type set names\n",
    "    for i, lig in enumerate(pose.residues):\n",
    "        if lig.name3() == resn:\n",
    "            lig_num = i+1\n",
    "            break\n",
    "    else:\n",
    "        raise ValueError(f'{resn} absent — unrecognised?')\n",
    "    #assert lig.name3() == 'LIG', 'Not LIG\n",
    "    atom_names: List[str] = [lig.atom_name(i+1) for i in range(lig.natoms())]\n",
    "    lig_resi=pose.pdb_info().number(lig_num)\n",
    "    lig_chain=pose.pdb_info().chain(lig_num)\n",
    "    return atom_names, lig_resi, lig_chain"
   ]
  },
  {
   "cell_type": "code",
   "execution_count": 58,
   "id": "84d03b24-6774-459f-af5f-856235cc6f1b",
   "metadata": {},
   "outputs": [
    {
     "name": "stdout",
     "output_type": "stream",
     "text": [
      "AssertionError LIG is split in 2 XX01ZVNS2B-x0553_0B\n",
      "AssertionError LIG is split in 2 XX01ZVNS2B-x0589_0B\n",
      "AssertionError LIG is split in 2 XX01ZVNS2B-x0605_0B\n",
      "KeyError 'LIG' XX01ZVNS2B-x0917_0B\n",
      "KeyError 'LIG' XX01ZVNS2B-x0917_1B\n"
     ]
    }
   ],
   "source": [
    "#analysis = {}\n",
    "\n",
    "for i, row in meta.iterrows():\n",
    "    if row.crystal_name in analysis:\n",
    "        continue\n",
    "    # f'{target_name}-{hit_name}'\n",
    "    folder = reference_path / 'aligned' / row.crystal_name\n",
    "    holo_path = folder / f'{row.crystal_name}_bound.pdb'\n",
    "    try:\n",
    "        pose, params = load_pose(holo_path, row.smiles)\n",
    "        pdb_block: str = ph.get_pdbstr(pose)\n",
    "    except Exception as error:\n",
    "        print(error.__class__.__name__, error, row.crystal_name)\n",
    "        continue\n",
    "    # store\n",
    "    pose.dump_pdb(str(folder / f'{row.crystal_name}_protonated.pdb'))\n",
    "    params.dump(str(folder / f'{row.crystal_name}.params'))\n",
    "    # details\n",
    "    atom_names, lig_resi, lig_chain = lig_details(pose)\n",
    "    plipper = SerialPLIPper(ph.get_pdbstr(pose),\n",
    "                        resn='LIG',\n",
    "                        resi=lig_resi,\n",
    "                        chain=lig_chain)\n",
    "    details = summarize_interactions(plipper)\n",
    "    analysis[row.crystal_name] = dict(resn='LIG',\n",
    "                                        resi=lig_resi,\n",
    "                                        chain=lig_chain,\n",
    "                                        interactions=details)"
   ]
  },
  {
   "cell_type": "code",
   "execution_count": 61,
   "id": "55de5c37-7d13-46c5-8148-1bd849f3a1bd",
   "metadata": {},
   "outputs": [],
   "source": [
    "import json\n",
    "\n",
    "with open('hit_interactions.json', 'w') as w:\n",
    "    json.dump(analysis, w)"
   ]
  },
  {
   "cell_type": "code",
   "execution_count": 65,
   "id": "732e5e18-da85-4e3d-83d2-3c5dcbc3186e",
   "metadata": {},
   "outputs": [],
   "source": [
    "pd.DataFrame([{**dict(crystal=k, resn=d['resn'], chain=d['chain'], intxn_N=di),\n",
    "               **dd} for k, d in analysis.items() for di, dd in enumerate(d['interactions'])])\\\n",
    "  .to_csv('hit_interactions.csv')"
   ]
  },
  {
   "cell_type": "code",
   "execution_count": null,
   "id": "b2432cfb-a831-4545-8839-3af1e9911f5b",
   "metadata": {},
   "outputs": [],
   "source": [
    "print('\\n'.join([l for l in holo_path.read_text().split('\\n') if 'LIG' in l or 'CON' in l]))"
   ]
  },
  {
   "cell_type": "code",
   "execution_count": 2,
   "id": "29fc4c1e-4024-4311-ab43-b70f46e4c6d1",
   "metadata": {},
   "outputs": [],
   "source": [
    "'XX01ZVNS2B_X0404'\n",
    "\n",
    "import pandas as pd\n",
    "\n",
    "df = pd.read_csv('hit_interactions.csv')"
   ]
  },
  {
   "cell_type": "code",
   "execution_count": 7,
   "id": "9e5973c3-f8fa-4bee-96ea-579090cf86a3",
   "metadata": {},
   "outputs": [
    {
     "data": {
      "text/html": [
       "<div>\n",
       "<style scoped>\n",
       "    .dataframe tbody tr th:only-of-type {\n",
       "        vertical-align: middle;\n",
       "    }\n",
       "\n",
       "    .dataframe tbody tr th {\n",
       "        vertical-align: top;\n",
       "    }\n",
       "\n",
       "    .dataframe thead th {\n",
       "        text-align: right;\n",
       "    }\n",
       "</style>\n",
       "<table border=\"1\" class=\"dataframe\">\n",
       "  <thead>\n",
       "    <tr style=\"text-align: right;\">\n",
       "      <th></th>\n",
       "      <th>Unnamed: 0</th>\n",
       "      <th>crystal</th>\n",
       "      <th>resn</th>\n",
       "      <th>chain</th>\n",
       "      <th>intxn_N</th>\n",
       "      <th>type</th>\n",
       "      <th>protein_resn</th>\n",
       "      <th>protein_resi</th>\n",
       "      <th>protein_chain</th>\n",
       "      <th>atom_names</th>\n",
       "      <th>babel_atom_types</th>\n",
       "      <th>distance</th>\n",
       "    </tr>\n",
       "  </thead>\n",
       "  <tbody>\n",
       "    <tr>\n",
       "      <th>44</th>\n",
       "      <td>44</td>\n",
       "      <td>XX01ZVNS2B-x0404_0B</td>\n",
       "      <td>LIG</td>\n",
       "      <td>B</td>\n",
       "      <td>0</td>\n",
       "      <td>hbond_donor</td>\n",
       "      <td>SER</td>\n",
       "      <td>81</td>\n",
       "      <td>A</td>\n",
       "      <td>[' N1 ']</td>\n",
       "      <td>['N3']</td>\n",
       "      <td>2.930481</td>\n",
       "    </tr>\n",
       "    <tr>\n",
       "      <th>45</th>\n",
       "      <td>45</td>\n",
       "      <td>XX01ZVNS2B-x0404_0B</td>\n",
       "      <td>LIG</td>\n",
       "      <td>B</td>\n",
       "      <td>1</td>\n",
       "      <td>hydroph_interaction</td>\n",
       "      <td>HIS</td>\n",
       "      <td>51</td>\n",
       "      <td>B</td>\n",
       "      <td>[' C5 ']</td>\n",
       "      <td>['C2']</td>\n",
       "      <td>3.940756</td>\n",
       "    </tr>\n",
       "  </tbody>\n",
       "</table>\n",
       "</div>"
      ],
      "text/plain": [
       "    Unnamed: 0              crystal resn chain  intxn_N                 type  \\\n",
       "44          44  XX01ZVNS2B-x0404_0B  LIG     B        0          hbond_donor   \n",
       "45          45  XX01ZVNS2B-x0404_0B  LIG     B        1  hydroph_interaction   \n",
       "\n",
       "   protein_resn  protein_resi protein_chain atom_names babel_atom_types  \\\n",
       "44          SER            81             A   [' N1 ']           ['N3']   \n",
       "45          HIS            51             B   [' C5 ']           ['C2']   \n",
       "\n",
       "    distance  \n",
       "44  2.930481  \n",
       "45  3.940756  "
      ]
     },
     "execution_count": 7,
     "metadata": {},
     "output_type": "execute_result"
    }
   ],
   "source": [
    "df.loc[df.crystal.str.contains('XX01ZVNS2B-x0404')]"
   ]
  },
  {
   "cell_type": "code",
   "execution_count": null,
   "id": "df9879d8-012f-478f-9e90-cb5cb811a9a4",
   "metadata": {},
   "outputs": [],
   "source": [
    "row = meta.loc[meta.crystal_name == 'XX01ZVNS2B-x0404_0B'].iloc[0]\n",
    "\n",
    "\n",
    "folder = reference_path / 'aligned' / row.crystal_name\n",
    "holo_path = folder / f'{row.crystal_name}_bound.pdb'\n",
    "try:\n",
    "    pose, params = load_pose(holo_path, row.smiles)\n",
    "    pdb_block: str = ph.get_pdbstr(pose)\n",
    "except Exception as error:\n",
    "    print(error.__class__.__name__, error, row.crystal_name)\n",
    "# store\n",
    "pose.dump_pdb(str(folder / f'{row.crystal_name}_protonated.pdb'))\n",
    "params.dump(str(folder / f'{row.crystal_name}.params'))\n",
    "# details\n",
    "atom_names, lig_resi, lig_chain = lig_details(pose)\n",
    "plipper = SerialPLIPper(ph.get_pdbstr(pose),\n",
    "                    resn='LIG',\n",
    "                    resi=lig_resi,\n",
    "                    chain=lig_chain)\n",
    "details = plipper.summarize_interactions(atom_names)"
   ]
  },
  {
   "cell_type": "code",
   "execution_count": 9,
   "id": "38d4ae7a-616f-41b5-b5c1-7b081c9335e2",
   "metadata": {},
   "outputs": [
    {
     "name": "stderr",
     "output_type": "stream",
     "text": [
      "2023-07-21 11:53:12,224 [WARNING] [preparation.py:1401] plip.structure.preparation: no polar hydrogens will be assigned (make sure your structure contains hydrogens)\n"
     ]
    }
   ],
   "source": [
    "from plip.structure.preparation import PDBComplex, PLInteraction\n",
    "\n",
    "holo = PDBComplex()\n",
    "holo.load_pdb(str(folder / f'{row.crystal_name}_protonated.pdb'))"
   ]
  },
  {
   "cell_type": "code",
   "execution_count": 10,
   "id": "31dc51f8-2fa3-4324-8752-0be7a918955a",
   "metadata": {},
   "outputs": [],
   "source": [
    "holo.analyze()"
   ]
  },
  {
   "cell_type": "code",
   "execution_count": 16,
   "id": "bd09a74b-e6a8-44d8-a36a-6262f49ff735",
   "metadata": {},
   "outputs": [],
   "source": [
    "with open(Path.home() / 'Coding/Zika-NS2B/tmp2.pdb', 'w') as w:\n",
    "    w.write(holo.corrected_pdb)"
   ]
  },
  {
   "cell_type": "code",
   "execution_count": 19,
   "id": "16c9b4c8-2272-4a54-b82f-7d0d3270b172",
   "metadata": {},
   "outputs": [
    {
     "data": {
      "text/plain": [
       "(5.0, 30, 5.5, 2.0)"
      ]
     },
     "execution_count": 19,
     "metadata": {},
     "output_type": "execute_result"
    }
   ],
   "source": [
    "from plip.basic import config\n",
    "\n",
    "config.AROMATIC_PLANARITY,\\\n",
    "config.PISTACK_ANG_DEV,\\\n",
    "config.PISTACK_DIST_MAX,\\\n",
    "config.PISTACK_OFFSET_MAX"
   ]
  },
  {
   "cell_type": "code",
   "execution_count": null,
   "id": "d9d9520d-e61a-490c-b9ed-ab580b0bb43d",
   "metadata": {},
   "outputs": [],
   "source": [
    "1\t51B\tHIS\t3.61\t8.68\t1.09\tP\t1754, 1755, 1756, 1757, 1758, 1759"
   ]
  },
  {
   "cell_type": "code",
   "execution_count": 30,
   "id": "23c3bc08-249f-4549-9d67-449cae724943",
   "metadata": {},
   "outputs": [
    {
     "data": {
      "text/plain": [
       "[{'type': 'hbond_donor',\n",
       "  'protein_resn': 'ASP',\n",
       "  'protein_resi': 83,\n",
       "  'protein_chain': 'A',\n",
       "  'atom_names': [' N1 '],\n",
       "  'babel_atom_types': ['N3'],\n",
       "  'distance': 2.861189437978547},\n",
       " {'type': 'pication_ring',\n",
       "  'protein_resn': 'HIS',\n",
       "  'protein_resi': 51,\n",
       "  'protein_chain': 'B',\n",
       "  'atom_names': [' C1 ', ' C6 ', ' C2 ', ' C5 ', ' C3 ', ' C4 '],\n",
       "  'babel_atom_types': ['Car', 'Car', 'Car', 'Car', 'Car', 'Car'],\n",
       "  'distance': 3.7350021158702917}]"
      ]
     },
     "execution_count": 30,
     "metadata": {},
     "output_type": "execute_result"
    }
   ],
   "source": [
    "plipper = SerialPLIPper('\\n'.join([line for line in ph.get_pdbstr(pose).split('\\n') if not any([k in line for k in ('  H', 'CONECT')])]),\n",
    "                    resn='LIG',\n",
    "                    resi=lig_resi,\n",
    "                    chain=lig_chain)\n",
    "plipper.summarize_interactions(atom_names)"
   ]
  },
  {
   "cell_type": "code",
   "execution_count": null,
   "id": "09c538ea-bb77-4e03-a11e-a657f58dfef0",
   "metadata": {},
   "outputs": [],
   "source": []
  },
  {
   "cell_type": "code",
   "execution_count": 90,
   "id": "3767b505-3a56-4329-8ec1-61c8831b5b64",
   "metadata": {},
   "outputs": [
    {
     "name": "stderr",
     "output_type": "stream",
     "text": [
      "2023-07-21 13:43:11,676 [WARNING] [preparation.py:1401] plip.structure.preparation: no polar hydrogens will be assigned (make sure your structure contains hydrogens)\n"
     ]
    },
    {
     "data": {
      "text/plain": [
       "['C3',\n",
       " 'So2',\n",
       " 'O2',\n",
       " 'O2',\n",
       " 'C2',\n",
       " 'C2',\n",
       " 'C2',\n",
       " 'C2',\n",
       " 'C2',\n",
       " 'C2',\n",
       " 'Npl',\n",
       " 'C3',\n",
       " 'C3',\n",
       " 'C3',\n",
       " 'C3',\n",
       " 'N3']"
      ]
     },
     "execution_count": 90,
     "metadata": {},
     "output_type": "execute_result"
    }
   ],
   "source": [
    "config.NOHYDRO = True # as don't add\n",
    "\n",
    "holo = PDBComplex()\n",
    "block = ph.get_pdbstr(pose)\n",
    "# remove Hs and CONECT\n",
    "#block = '\\n'.join([line for line in block.split('\\n') if not any([k in line for k in ('  H', 'CONECT')])])\n",
    "#block = '\\n'.join([line for line in block.split('\\n') if not any([k in line for k in ('  H',)])])\n",
    "\n",
    "holo.load_pdb(block, as_string=True)\n",
    "\n",
    "[a.type for a in holo.ligands[0].mol.atoms]"
   ]
  },
  {
   "cell_type": "code",
   "execution_count": 92,
   "id": "1413467e-7a62-4a54-8d97-619eec7fe8fb",
   "metadata": {},
   "outputs": [
    {
     "data": {
      "text/plain": [
       "['C3',\n",
       " 'So2',\n",
       " 'O2',\n",
       " 'O2',\n",
       " 'Car',\n",
       " 'Car',\n",
       " 'Car',\n",
       " 'Car',\n",
       " 'Car',\n",
       " 'Car',\n",
       " 'Npl',\n",
       " 'C3',\n",
       " 'C3',\n",
       " 'C3',\n",
       " 'C3',\n",
       " 'N3']"
      ]
     },
     "execution_count": 92,
     "metadata": {},
     "output_type": "execute_result"
    }
   ],
   "source": [
    "correct = ['C3',\n",
    " 'So2',\n",
    " 'O2',\n",
    " 'O2',\n",
    " 'Car',\n",
    " 'Car',\n",
    " 'Car',\n",
    " 'Car',\n",
    " 'Car',\n",
    " 'Car',\n",
    " 'Npl',\n",
    " 'C3',\n",
    " 'C3',\n",
    " 'C3',\n",
    " 'C3',\n",
    " 'N3']\n",
    "\n",
    "for c, a in zip(correct, holo.ligands[0].mol.atoms):\n",
    "    a.OBAtom.SetType(c)\n",
    "    \n",
    "[a.type for a in holo.ligands[0].mol.atoms]"
   ]
  },
  {
   "cell_type": "code",
   "execution_count": 84,
   "id": "6fa176bd-e1e8-4d84-a028-63777c897558",
   "metadata": {},
   "outputs": [],
   "source": [
    "holo.analyze()"
   ]
  },
  {
   "cell_type": "code",
   "execution_count": null,
   "id": "08d81712-596f-4fd1-991d-c8360b93d831",
   "metadata": {},
   "outputs": [],
   "source": []
  },
  {
   "cell_type": "code",
   "execution_count": 19,
   "id": "03e48e98-25e0-433c-89ec-326660e27730",
   "metadata": {},
   "outputs": [
    {
     "name": "stderr",
     "output_type": "stream",
     "text": [
      "2023-07-21 14:28:20,163 [WARNING] [preparation.py:1401] plip.structure.preparation: no polar hydrogens will be assigned (make sure your structure contains hydrogens)\n"
     ]
    },
    {
     "name": "stdout",
     "output_type": "stream",
     "text": [
      "Monkey!\n"
     ]
    },
    {
     "data": {
      "text/plain": [
       "['C3',\n",
       " 'So2',\n",
       " 'O2',\n",
       " 'O2',\n",
       " 'C2',\n",
       " 'C2',\n",
       " 'C2',\n",
       " 'C2',\n",
       " 'C2',\n",
       " 'C2',\n",
       " 'Npl',\n",
       " 'C3',\n",
       " 'C3',\n",
       " 'C3',\n",
       " 'C3',\n",
       " 'N3']"
      ]
     },
     "execution_count": 19,
     "metadata": {},
     "output_type": "execute_result"
    }
   ],
   "source": [
    "from openbabel import pybel\n",
    "from plip.basic import config\n",
    "from plip.structure.preparation import PDBComplex\n",
    "\n",
    "config.NOHYDRO = True # as don't add. Default is False\n",
    "\n",
    "holo = PDBComplex()\n",
    "block = open(str( Path.home()) + '/Coding/Zika-NS2B/XX01ZVNS2B/aligned/XX01ZVNS2B-x0404_0B/XX01ZVNS2B-x0404_0B_protonated.pdb').read()\n",
    "# remove Hs and CONECT\n",
    "#block = '\\n'.join([line for line in block.split('\\n') if not any([k in line for k in ('  H', 'CONECT')])])\n",
    "#block = '\\n'.join([line for line in block.split('\\n') if not any([k in line for k in ('  H',)])])\n",
    "\n",
    "holo.load_pdb(block, as_string=True)\n",
    "\n",
    "[a.type for a in holo.ligands[0].mol.atoms]"
   ]
  },
  {
   "cell_type": "code",
   "execution_count": 93,
   "id": "38baa299-8eff-49de-9df5-3ce519aa2ebf",
   "metadata": {},
   "outputs": [
    {
     "data": {
      "text/plain": [
       "[{'type': 'hbond_donor',\n",
       "  'protein_resn': 'SER',\n",
       "  'protein_resi': 81,\n",
       "  'protein_chain': 'A',\n",
       "  'atom_names': [' N1 '],\n",
       "  'babel_atom_types': ['N3'],\n",
       "  'distance': 2.930480506674631},\n",
       " {'type': 'hydroph_interaction',\n",
       "  'protein_resn': 'HIS',\n",
       "  'protein_resi': 51,\n",
       "  'protein_chain': 'B',\n",
       "  'atom_names': [' C5 '],\n",
       "  'babel_atom_types': ['C2'],\n",
       "  'distance': 3.9407555113201336}]"
      ]
     },
     "execution_count": 93,
     "metadata": {},
     "output_type": "execute_result"
    }
   ],
   "source": [
    "config.NOHYDRO = False\n",
    "plipper = SerialPLIPper(ph.get_pdbstr(pose),\n",
    "                    resn='LIG',\n",
    "                    resi=lig_resi,\n",
    "                    chain=lig_chain)\n",
    "plipper.summarize_interactions(atom_names)"
   ]
  },
  {
   "cell_type": "code",
   "execution_count": 89,
   "id": "a3972207-86b9-49a2-bbf3-1c57688696c9",
   "metadata": {},
   "outputs": [
    {
     "data": {
      "text/plain": [
       "hydroph_interaction(bsatom=<openbabel.pybel.Atom object at 0x287280be0>, bsatom_orig_idx=1588, ligatom=<openbabel.pybel.Atom object at 0x2873c1600>, ligatom_orig_idx=3397, distance=3.9407555113201336, restype='HIS', resnr=51, reschain='B', restype_l='LIG', resnr_l=301, reschain_l='B')"
      ]
     },
     "execution_count": 89,
     "metadata": {},
     "output_type": "execute_result"
    }
   ],
   "source": [
    "holo.interaction_sets['LIG:B:301'].all_itypes[1]"
   ]
  },
  {
   "cell_type": "code",
   "execution_count": 6,
   "id": "4722bf4e-a3d1-40e4-8907-aa724c4dd6e8",
   "metadata": {},
   "outputs": [],
   "source": [
    "from openbabel import pybel\n",
    "from pathlib import Path\n",
    "\n",
    "apo = pybel.readfile(\n",
    "    'pdb',\n",
    "    str( Path.home()) + '/Coding/Zika-NS2B/XX01ZVNS2B/aligned/XX01ZVNS2B-x0404_0B/XX01ZVNS2B-x0404_0B_apo.pdb',\n",
    "opt={\"s\": None}           \n",
    ").__next__()\n",
    "\n",
    "mol = pybel.readfile(\n",
    "    'mol',\n",
    "    str( Path.home()) + '/Coding/Zika-NS2B/XX01ZVNS2B/aligned/XX01ZVNS2B-x0404_0B/XX01ZVNS2B-x0404_0B.mol',          \n",
    ").__next__()"
   ]
  },
  {
   "cell_type": "code",
   "execution_count": 3,
   "id": "a2d46d70-08ca-4719-9f14-dae4515dcd00",
   "metadata": {},
   "outputs": [
    {
     "data": {
      "text/plain": [
       "openbabel.pybel.Molecule"
      ]
     },
     "execution_count": 3,
     "metadata": {},
     "output_type": "execute_result"
    }
   ],
   "source": [
    "opt={\"s\": None}  \n",
    "\n",
    "s\tOutput single bonds only\n",
    "b\tDisable bonding entirely\n",
    "c\tIgnore CONECT records"
   ]
  },
  {
   "cell_type": "code",
   "execution_count": 1,
   "id": "9fd1e055-93fd-4e50-8c1c-5c485418bf42",
   "metadata": {},
   "outputs": [],
   "source": [
    "from openbabel import pybel\n",
    "from pathlib import Path\n",
    "\n",
    "apo = pybel.readfile(\n",
    "    'pdb',\n",
    "    str( Path.home()) + '/Coding/Zika-NS2B/XX01ZVNS2B/aligned/XX01ZVNS2B-x0404_0B/XX01ZVNS2B-x0404_0B_protonated.pdb',\n",
    "#opt={\"s\": None}           \n",
    ").__next__()"
   ]
  },
  {
   "cell_type": "code",
   "execution_count": null,
   "id": "20a9401d-40ea-483e-8a41-93e615f3e496",
   "metadata": {},
   "outputs": [],
   "source": [
    "apo.OBMol."
   ]
  },
  {
   "cell_type": "code",
   "execution_count": 2,
   "id": "11911d92-35bf-420f-a9c8-f61e9d3cadd9",
   "metadata": {},
   "outputs": [
    {
     "data": {
      "image/svg+xml": [
       "<svg xmlns=\"http://www.w3.org/2000/svg\" width=\"100\" height=\"100\" x=\"0\" y=\"0\" viewBox=\"0 0 285.477 200\" font-family=\"sans-serif\" stroke=\"rgb(0,0,0)\" stroke-width=\"2\" stroke-linecap=\"round\">\n",
       "<line x1=\"80.0\" y1=\"80.0\" x2=\"53.0\" y2=\"80.0\" opacity=\"1.0\" stroke=\"rgb(0,0,0)\" stroke-width=\"2.0\" />\n",
       "<line x1=\"234.2\" y1=\"113.5\" x2=\"210.8\" y2=\"100.0\" opacity=\"1.0\" stroke=\"rgb(0,0,0)\" stroke-width=\"2.0\" />\n",
       "<line x1=\"245.5\" y1=\"147.0\" x2=\"245.5\" y2=\"133.0\" opacity=\"1.0\" stroke=\"rgb(0,0,0)\" stroke-width=\"2.0\" />\n",
       "<line x1=\"115.9\" y1=\"51.7\" x2=\"141.6\" y2=\"60.0\" opacity=\"1.0\" stroke=\"rgb(0,0,0)\" stroke-width=\"2.0\" />\n",
       "<line x1=\"141.6\" y1=\"60.0\" x2=\"141.6\" y2=\"100.0\" opacity=\"1.0\" stroke=\"rgb(0,0,0)\" stroke-width=\"2.0\" />\n",
       "<line x1=\"134.4\" y1=\"66.0\" x2=\"134.4\" y2=\"94.0\" opacity=\"1.0\" stroke=\"rgb(0,0,0)\" stroke-width=\"2.0\" />\n",
       "<line x1=\"141.6\" y1=\"100.0\" x2=\"115.9\" y2=\"108.3\" opacity=\"1.0\" stroke=\"rgb(0,0,0)\" stroke-width=\"2.0\" />\n",
       "<line x1=\"95.8\" y1=\"101.7\" x2=\"80.0\" y2=\"80.0\" opacity=\"1.0\" stroke=\"rgb(0,0,0)\" stroke-width=\"2.0\" />\n",
       "<line x1=\"100.4\" y1=\"95.8\" x2=\"89.4\" y2=\"80.6\" opacity=\"1.0\" stroke=\"rgb(0,0,0)\" stroke-width=\"2.0\" />\n",
       "<line x1=\"80.0\" y1=\"80.0\" x2=\"95.9\" y2=\"58.2\" opacity=\"1.0\" stroke=\"rgb(0,0,0)\" stroke-width=\"2.0\" />\n",
       "<line x1=\"210.8\" y1=\"100.0\" x2=\"176.2\" y2=\"120.0\" opacity=\"1.0\" stroke=\"rgb(0,0,0)\" stroke-width=\"2.0\" />\n",
       "<line x1=\"202.0\" y1=\"96.8\" x2=\"177.8\" y2=\"110.8\" opacity=\"1.0\" stroke=\"rgb(0,0,0)\" stroke-width=\"2.0\" />\n",
       "<line x1=\"176.2\" y1=\"120.0\" x2=\"141.6\" y2=\"100.0\" opacity=\"1.0\" stroke=\"rgb(0,0,0)\" stroke-width=\"2.0\" />\n",
       "<line x1=\"141.6\" y1=\"60.0\" x2=\"176.2\" y2=\"40.0\" opacity=\"1.0\" stroke=\"rgb(0,0,0)\" stroke-width=\"2.0\" />\n",
       "<line x1=\"176.2\" y1=\"40.0\" x2=\"210.8\" y2=\"60.0\" opacity=\"1.0\" stroke=\"rgb(0,0,0)\" stroke-width=\"2.0\" />\n",
       "<line x1=\"177.8\" y1=\"49.2\" x2=\"202.0\" y2=\"63.2\" opacity=\"1.0\" stroke=\"rgb(0,0,0)\" stroke-width=\"2.0\" />\n",
       "<line x1=\"210.8\" y1=\"60.0\" x2=\"210.8\" y2=\"100.0\" opacity=\"1.0\" stroke=\"rgb(0,0,0)\" stroke-width=\"2.0\" />\n",
       "<text x=\"14.000000\" y=\"88.000000\" fill=\"rgb(12,12,255)\" stroke-width=\"0\" font-weight=\"bold\" font-size=\"16\">H</text>\n",
       "<text x=\"26.000000\" y=\"91.680000\" fill=\"rgb(12,12,255)\" stroke-width=\"0\" font-weight=\"bold\" font-size=\"13\">2</text>\n",
       "<text x=\"32.500000\" y=\"88.000000\" fill=\"rgb(12,12,255)\" stroke-width=\"0\" font-weight=\"bold\" font-size=\"16\">N</text>\n",
       "<text x=\"97.511410\" y=\"55.639320\" fill=\"rgb(178,178,0)\" stroke-width=\"0\" font-weight=\"bold\" font-size=\"16\">S</text>\n",
       "<text x=\"97.511410\" y=\"120.360680\" fill=\"rgb(12,12,255)\" stroke-width=\"0\" font-weight=\"bold\" font-size=\"16\">N</text>\n",
       "<text x=\"239.476719\" y=\"128.000000\" fill=\"rgb(255,12,12)\" stroke-width=\"0\" font-weight=\"bold\" font-size=\"16\">O</text>\n",
       "<text x=\"241.476719\" y=\"168.000000\" fill=\"rgb(102,102,102)\" stroke-width=\"0\" font-weight=\"bold\" font-size=\"16\">CH</text>\n",
       "<text x=\"265.476719\" y=\"171.680000\" fill=\"rgb(102,102,102)\" stroke-width=\"0\" font-weight=\"bold\" font-size=\"13\">3</text>\n",
       "</svg>\n"
      ],
      "text/plain": [
       "<openbabel.pybel.Molecule at 0x120950e80>"
      ]
     },
     "execution_count": 2,
     "metadata": {},
     "output_type": "execute_result"
    }
   ],
   "source": [
    "mol.clone"
   ]
  },
  {
   "cell_type": "code",
   "execution_count": 70,
   "id": "7233b310-90c1-4f91-8eea-fdb7e97d950f",
   "metadata": {},
   "outputs": [],
   "source": [
    "import plip.basic.supplemental as supp\n",
    "from openbabel import pybel\n",
    "import logging\n",
    "logger = supp.logger\n",
    "import sys\n",
    "\n",
    "def readmol(path, as_string=False):\n",
    "    \"\"\"Reads the given molecule file and returns the corresponding Pybel molecule as well as the input file type.\n",
    "    In contrast to the standard Pybel implementation, the file is closed properly.\"\"\"\n",
    "    print('Monkey!')\n",
    "    supported_formats = ['pdb']\n",
    "    # Fix for Windows-generated files: Remove carriage return characters\n",
    "    if \"\\r\" in path and as_string:\n",
    "        path = path.replace('\\r', '')\n",
    "\n",
    "    for sformat in supported_formats:\n",
    "        obc = pybel.ob.OBConversion()\n",
    "        obc.SetInFormat(sformat)\n",
    "        logger.debug(f'detected {sformat} as format, trying to read file with OpenBabel')\n",
    "\n",
    "        # Read molecules with single bond information\n",
    "        if as_string:\n",
    "            try:\n",
    "                mymol = pybel.readstring(sformat, path)\n",
    "            except IOError:\n",
    "                logger.error('no valid file format provided')\n",
    "                sys.exit(1)\n",
    "        else:\n",
    "            read_file = pybel.readfile(format=sformat, filename=path,\n",
    "                                       #opt={\"s\": None}\n",
    "                                      )\n",
    "            try:\n",
    "                mymol = next(read_file)\n",
    "            except StopIteration:\n",
    "                logger.error('file contains no valid molecules')\n",
    "                sys.exit(1)\n",
    "\n",
    "        logger.debug('molecule successfully read')\n",
    "\n",
    "        # Assign multiple bonds\n",
    "        #mymol.OBMol.PerceiveBondOrders()\n",
    "        return mymol, sformat\n",
    "    \n",
    "supp.readmol = readmol"
   ]
  },
  {
   "cell_type": "code",
   "execution_count": 3,
   "id": "0c9eb9e9-4989-466b-8b5f-80ff05e74cb5",
   "metadata": {},
   "outputs": [
    {
     "name": "stderr",
     "output_type": "stream",
     "text": [
      "2023-07-21 15:34:54,005 [WARNING] [preparation.py:1401] plip.structure.preparation: no polar hydrogens will be assigned (make sure your structure contains hydrogens)\n"
     ]
    },
    {
     "name": "stdout",
     "output_type": "stream",
     "text": [
      "['Car', 'Car', 'Car', 'Car', 'Car', 'Car', 'H', 'H', 'H', 'H', 'H', 'H']\n",
      "['Car', 'Car', 'Car', 'Car', 'Car', 'Car', 'H', 'H', 'H', 'H', 'H', 'H']\n"
     ]
    },
    {
     "data": {
      "text/plain": [
       "['C2', 'C2', 'C2', 'C2', 'C2', 'C2']"
      ]
     },
     "execution_count": 3,
     "metadata": {},
     "output_type": "execute_result"
    }
   ],
   "source": [
    "from rdkit import Chem\n",
    "from rdkit.Chem import AllChem\n",
    "from openbabel import pybel\n",
    "from plip.basic import config\n",
    "from plip.structure.preparation import PDBComplex\n",
    "\n",
    "\n",
    "config.NOHYDRO = True\n",
    "mol = AllChem.AddHs(Chem.MolFromSmiles('c1ccccc1'))\n",
    "AllChem.EmbedMolecule(mol)\n",
    "\n",
    "block = Chem.MolToPDBBlock(mol)  # rubbish CONECT is flavor=8\n",
    "pb_mol = pybel.readstring('pdb', block, {'s': None})\n",
    "print([a.type for a in pb_mol.atoms])\n",
    "pb_mol.OBMol.PerceiveBondOrders()\n",
    "print([a.type for a in pb_mol.atoms])\n",
    "p = PDBComplex()\n",
    "p.load_pdb(block, as_string=True)\n",
    "[a.type for a in p.ligands[0].mol.atoms]"
   ]
  },
  {
   "cell_type": "code",
   "execution_count": null,
   "id": "7888c72b-8df8-479f-9b9e-a480607bd27e",
   "metadata": {},
   "outputs": [],
   "source": [
    "flavor 0\n",
    "CONECT    1    2    2    6\n",
    "CONECT    2    3\n",
    "CONECT    3    4    4\n",
    "CONECT    4    5\n",
    "CONECT    5    6    6\n",
    "flavor 8\n",
    "CONECT    1    2    6\n",
    "CONECT    2    3\n",
    "CONECT    3    4\n",
    "CONECT    4    5\n",
    "CONECT    5    6"
   ]
  },
  {
   "cell_type": "code",
   "execution_count": 78,
   "id": "9a93bb58-30e1-4c56-8757-46ed9beb3ed0",
   "metadata": {},
   "outputs": [
    {
     "data": {
      "text/plain": [
       "['Car', 'Car', 'Car', 'Car', 'Car', 'Car']"
      ]
     },
     "execution_count": 78,
     "metadata": {},
     "output_type": "execute_result"
    }
   ],
   "source": [
    "block = '''HETATM    1  C1  UNL     1       0.116  -1.105   0.817  1.00  0.00           C  \n",
    "HETATM    2  C2  UNL     1       0.246   0.158   1.345  1.00  0.00           C  \n",
    "HETATM    3  C3  UNL     1       0.378   1.285   0.545  1.00  0.00           C  \n",
    "HETATM    4  C4  UNL     1       0.376   1.106  -0.824  1.00  0.00           C  \n",
    "HETATM    5  C5  UNL     1       0.245  -0.167  -1.334  1.00  0.00           C  \n",
    "HETATM    6  C6  UNL     1       0.115  -1.277  -0.550  1.00  0.00           C  \n",
    "CONECT    1    2    2    6\n",
    "CONECT    2    3\n",
    "CONECT    3    4    4\n",
    "CONECT    4    5\n",
    "CONECT    5    6    6\n",
    "END\n",
    "'''\n",
    "\n",
    "pb_mol = pybel.readstring('pdb', block, {'s': None})\n",
    "pb_mol.OBMol.PerceiveBondOrders()\n",
    "[a.type for a in pb_mol.atoms]"
   ]
  },
  {
   "cell_type": "code",
   "execution_count": 71,
   "id": "d13ea91a-4e8a-4751-8bcd-1ce481877928",
   "metadata": {},
   "outputs": [
    {
     "name": "stderr",
     "output_type": "stream",
     "text": [
      "2023-07-21 14:47:06,869 [WARNING] [preparation.py:1401] plip.structure.preparation: no polar hydrogens will be assigned (make sure your structure contains hydrogens)\n"
     ]
    },
    {
     "name": "stdout",
     "output_type": "stream",
     "text": [
      "Monkey!\n"
     ]
    },
    {
     "data": {
      "text/plain": [
       "['C3',\n",
       " 'So2',\n",
       " 'O2',\n",
       " 'O2',\n",
       " 'C2',\n",
       " 'C2',\n",
       " 'C2',\n",
       " 'C2',\n",
       " 'C2',\n",
       " 'C2',\n",
       " 'Npl',\n",
       " 'C3',\n",
       " 'C3',\n",
       " 'C3',\n",
       " 'C3',\n",
       " 'N3']"
      ]
     },
     "execution_count": 71,
     "metadata": {},
     "output_type": "execute_result"
    }
   ],
   "source": [
    "config.NOHYDRO = True # as don't add\n",
    "\n",
    "holo = PDBComplex()\n",
    "# remove Hs and CONECT\n",
    "#block = '\\n'.join([line for line in block.split('\\n') if not any([k in line for k in ('  H', 'CONECT')])])\n",
    "#block = '\\n'.join([line for line in block.split('\\n') if not any([k in line for k in ('  H',)])])\n",
    "\n",
    "holo.load_pdb(block, as_string=True)\n",
    "\n",
    "[a.type for a in holo.ligands[0].mol.atoms]"
   ]
  },
  {
   "cell_type": "code",
   "execution_count": 80,
   "id": "cabea0e9-3396-45b0-8cbc-9fc36c5386ad",
   "metadata": {},
   "outputs": [
    {
     "name": "stdout",
     "output_type": "stream",
     "text": [
      "Help on built-in function MolToPDBBlock in module rdkit.Chem.rdmolfiles:\n",
      "\n",
      "MolToPDBBlock(...)\n",
      "    MolToPDBBlock( (Mol)mol [, (int)confId=-1 [, (int)flavor=0]]) -> str :\n",
      "        Returns a PDB block for a molecule\n",
      "          ARGUMENTS:\n",
      "        \n",
      "            - mol: the molecule\n",
      "            - confId: (optional) selects which conformation to output (-1 = default)\n",
      "            - flavor: (optional) \n",
      "                    - flavor & 1 : Write MODEL/ENDMDL lines around each record \n",
      "                    - flavor & 2 : Don't write any CONECT records \n",
      "                    - flavor & 4 : Write CONECT records in both directions \n",
      "                    - flavor & 8 : Don't use multiple CONECTs to encode bond order \n",
      "                    - flavor & 16 : Write MASTER record \n",
      "                    - flavor & 32 : Write TER record \n",
      "        \n",
      "          RETURNS:\n",
      "        \n",
      "            a string\n",
      "        \n",
      "        \n",
      "    \n",
      "        C++ signature :\n",
      "            std::__1::basic_string<char, std::__1::char_traits<char>, std::__1::allocator<char>> MolToPDBBlock(RDKit::ROMol [,int=-1 [,unsigned int=0]])\n",
      "\n"
     ]
    }
   ],
   "source": [
    "help(Chem.MolToPDBBlock)"
   ]
  },
  {
   "cell_type": "code",
   "execution_count": null,
   "id": "03be542e-c0a0-4cbd-95e8-5ab2a13f67ab",
   "metadata": {},
   "outputs": [],
   "source": []
  }
 ],
 "metadata": {
  "kernelspec": {
   "display_name": "Python [conda env:py310]",
   "language": "python",
   "name": "conda-env-py310-py"
  },
  "language_info": {
   "codemirror_mode": {
    "name": "ipython",
    "version": 3
   },
   "file_extension": ".py",
   "mimetype": "text/x-python",
   "name": "python",
   "nbconvert_exporter": "python",
   "pygments_lexer": "ipython3",
   "version": "3.10.10"
  }
 },
 "nbformat": 4,
 "nbformat_minor": 5
}
