{
 "cells": [
  {
   "cell_type": "code",
   "execution_count": 1,
   "id": "ed588426-7daf-4ec0-8755-99045c38486a",
   "metadata": {},
   "outputs": [],
   "source": [
    "from pathlib import Path\n",
    "\n",
    "folder = Path('.')\n",
    "target = folder / 'collage.pdb'\n",
    "assert target.exists()"
   ]
  },
  {
   "cell_type": "code",
   "execution_count": 2,
   "id": "36277aa8-9675-4272-b741-c627cf516a11",
   "metadata": {},
   "outputs": [
    {
     "name": "stderr",
     "output_type": "stream",
     "text": [
      "/data/xchem-fragalysis/mferla/waconda/lib/python3.11/site-packages/Bio/pairwise2.py:278: BiopythonDeprecationWarning: Bio.pairwise2 has been deprecated, and we intend to remove it in a future release of Biopython. As an alternative, please consider using Bio.Align.PairwiseAligner as a replacement, and contact the Biopython developers if you still need the Bio.pairwise2 module.\n",
      "  warnings.warn(\n"
     ]
    },
    {
     "data": {
      "application/vnd.jupyter.widget-view+json": {
       "model_id": "c6b243cea3334e079a91424bac58e001",
       "version_major": 2,
       "version_minor": 0
      },
      "text/plain": []
     },
     "metadata": {},
     "output_type": "display_data"
    }
   ],
   "source": [
    "import pyrosetta\n",
    "import pyrosetta_help as ph\n",
    "from types import ModuleType\n",
    "from IPython.display import display, HTML\n",
    "\n",
    "prc: ModuleType = pyrosetta.rosetta.core\n",
    "prp: ModuleType = pyrosetta.rosetta.protocols\n",
    "prcc: ModuleType = pyrosetta.rosetta.core.conformation\n",
    "pr_scoring: ModuleType = pyrosetta.rosetta.core.scoring\n",
    "\n",
    "logger = ph.configure_logger()\n",
    "pyrosetta.distributed.maybe_init(extra_options=ph.make_option_string(no_optH=False,\n",
    "                                                ex1=None,\n",
    "                                                ex2=None,\n",
    "                                                #mute='all',\n",
    "                                                ignore_unrecognized_res=True,\n",
    "                                                load_PDB_components=False,\n",
    "                                                ignore_waters=True)\n",
    "                               )"
   ]
  },
  {
   "cell_type": "code",
   "execution_count": 4,
   "id": "3986b0b3-dacd-4222-b59f-67a8059a2c45",
   "metadata": {},
   "outputs": [],
   "source": [
    "pyrosetta.rosetta.basic.options.set_boolean_option('run:ignore_zero_occupancy', False)\n",
    "pyrosetta.rosetta.basic.options.set_boolean_option('in:auto_setup_metals', True)\n",
    "pose: pyrosetta.Pose = pyrosetta.pose_from_file(str(target.absolute()))"
   ]
  },
  {
   "cell_type": "code",
   "execution_count": 5,
   "id": "3c91ef4c-e2ec-453a-92fb-dc7faaf28f72",
   "metadata": {},
   "outputs": [
    {
     "name": "stdout",
     "output_type": "stream",
     "text": [
      "chains map_unsigned_long_char{1: A, 2: B}\n",
      "sequence DMYIERAGDITWEKDAEVTGNSPRLDVALDESGDFSLVEGETTDGVYRVMTRRLLGSTQVGVGVMQEGVFHTMWHVTKGAALRSGEGRLDPYWGDVKQDLVSYCGPWKLDAAWDGLSEVQLLAVPPGERAKNIQTLPGIFKTKDGDIGAVALDYPAGTSGSPILDKCGRVIGLYGNGVVIKN\n",
      "Constraints present []\n"
     ]
    }
   ],
   "source": [
    "from collections import Counter\n",
    "\n",
    "con_tally: dict = Counter([type(con).__name__ for con in pose.constraint_set().get_all_constraints()]).most_common()\n",
    "\n",
    "print('chains', prc.pose.conf2pdb_chain(pose))\n",
    "print('sequence', pose.sequence())\n",
    "print('Constraints present', con_tally)"
   ]
  },
  {
   "cell_type": "code",
   "execution_count": 6,
   "id": "1073215c-72f5-46e4-9138-0d95fc98ca6b",
   "metadata": {},
   "outputs": [
    {
     "name": "stdout",
     "output_type": "stream",
     "text": [
      "x20 coordinate_constraint done\n",
      "x5 coordinate_constraint done\n"
     ]
    },
    {
     "data": {
      "text/plain": [
       "True"
      ]
     },
     "execution_count": 6,
     "metadata": {},
     "output_type": "execute_result"
    }
   ],
   "source": [
    "scorefxn: pr_scoring.ScoreFunction = pyrosetta.get_fa_scorefxn()\n",
    "scorefxn.set_weight(pr_scoring.ScoreType.coordinate_constraint, 20)\n",
    "scorefxn.set_weight(pr_scoring.ScoreType.angle_constraint, 5)\n",
    "scorefxn.set_weight(pr_scoring.ScoreType.atom_pair_constraint, 5)\n",
    "pyrosetta.rosetta.basic.options.set_boolean_option('relax:constrain_relax_to_start_coords', True)\n",
    "pyrosetta.rosetta.protocols.relax.FastRelax.register_options()\n",
    "relax = pyrosetta.rosetta.protocols.relax.FastRelax(scorefxn, 15)\n",
    "relax.constrain_relax_to_start_coords(True)\n",
    "relax.apply(pose)\n",
    "pose.dump_pdb('collage.strong_con.pdb')\n",
    "print('x20 coordinate_constraint done')\n",
    "scorefxn.set_weight(pr_scoring.ScoreType.coordinate_constraint, 5)\n",
    "pyrosetta.rosetta.protocols.relax.FastRelax.register_options()\n",
    "relax = pyrosetta.rosetta.protocols.relax.FastRelax(scorefxn, 15)\n",
    "relax.constrain_relax_to_start_coords(True)\n",
    "relax.apply(pose)\n",
    "print('x5 coordinate_constraint done')\n",
    "pose.dump_pdb('collage.weak_con.pdb')"
   ]
  },
  {
   "cell_type": "code",
   "execution_count": null,
   "id": "1e5f2d48-8266-4329-a3f2-d461cf44ef69",
   "metadata": {},
   "outputs": [],
   "source": []
  }
 ],
 "metadata": {
  "kernelspec": {
   "display_name": "Python [conda env:root] *",
   "language": "python",
   "name": "conda-root-py"
  },
  "language_info": {
   "codemirror_mode": {
    "name": "ipython",
    "version": 3
   },
   "file_extension": ".py",
   "mimetype": "text/x-python",
   "name": "python",
   "nbconvert_exporter": "python",
   "pygments_lexer": "ipython3",
   "version": "3.11.5"
  }
 },
 "nbformat": 4,
 "nbformat_minor": 5
}
